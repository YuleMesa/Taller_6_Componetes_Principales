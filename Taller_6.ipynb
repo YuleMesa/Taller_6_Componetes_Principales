{
  "nbformat": 4,
  "nbformat_minor": 0,
  "metadata": {
    "colab": {
      "name": "Taller 6.ipynb",
      "provenance": []
    },
    "kernelspec": {
      "name": "python3",
      "display_name": "Python 3"
    },
    "language_info": {
      "name": "python"
    }
  },
  "cells": [
    {
      "cell_type": "markdown",
      "source": [
        "### Clasificación de empresas fraudulentas: un estudio de caso de un Auditoría"
      ],
      "metadata": {
        "id": "_oEmH0--UUP1"
      }
    },
    {
      "cell_type": "markdown",
      "source": [
        "Este documento es un estudio de caso de una visita a una empresa de auditoría externa. Se recogieron 777 datos anuales de 46 ciudades diferentes y en empresas de 14 sectores: Agricultura (200), Riego (114), Ganadería (95), Edificios y vias (82), Salud pública (77), Forestal (70), Corporativo (47), Pesca (41), Industrias (37), Tierra (5), Eléctrica (4), Ciencia y Tecnología (3), Comunicación (1) y Turismo (1).\n",
        "\n",
        "La auditoría se define como el proceso de examinar los registros de cualquier negocio para corroborar que sus estados financieros están en cumplimiento de las leyes y principios contables, o por el contrario para detectar fraudes y revelar a las empresas culpables de instigar transacciones ilegales. \n",
        "\n",
        "El objetivo de esta investigación consiste en construir un  modelo de clasificación que pueda predecir si una empresa es fraudulenta sobre la base del riesgo actual e histórico de factores. "
      ],
      "metadata": {
        "id": "1ICbLpipUSlw"
      }
    },
    {
      "cell_type": "code",
      "execution_count": 1,
      "metadata": {
        "id": "zxID5KSj2iGL"
      },
      "outputs": [],
      "source": [
        "import numpy as np\n",
        "import matplotlib.pyplot as plt\n",
        "import pandas as pd"
      ]
    },
    {
      "cell_type": "code",
      "source": [
        "from google.colab import files \n",
        "uploaded=files.upload()"
      ],
      "metadata": {
        "colab": {
          "resources": {
            "http://localhost:8080/nbextensions/google.colab/files.js": {
              "data": "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",
              "ok": true,
              "headers": [
                [
                  "content-type",
                  "application/javascript"
                ]
              ],
              "status": 200,
              "status_text": ""
            }
          },
          "base_uri": "https://localhost:8080/",
          "height": 73
        },
        "id": "LpfE-JxB2zKi",
        "outputId": "0e1abef1-72d1-46b0-e6fb-976b8485334d"
      },
      "execution_count": 31,
      "outputs": [
        {
          "output_type": "display_data",
          "data": {
            "text/plain": [
              "<IPython.core.display.HTML object>"
            ],
            "text/html": [
              "\n",
              "     <input type=\"file\" id=\"files-3fe5b0be-017a-499e-a264-32a7ca799f89\" name=\"files[]\" multiple disabled\n",
              "        style=\"border:none\" />\n",
              "     <output id=\"result-3fe5b0be-017a-499e-a264-32a7ca799f89\">\n",
              "      Upload widget is only available when the cell has been executed in the\n",
              "      current browser session. Please rerun this cell to enable.\n",
              "      </output>\n",
              "      <script src=\"/nbextensions/google.colab/files.js\"></script> "
            ]
          },
          "metadata": {}
        },
        {
          "output_type": "stream",
          "name": "stdout",
          "text": [
            "Saving audit_risk2.csv to audit_risk2.csv\n"
          ]
        }
      ]
    },
    {
      "cell_type": "code",
      "source": [
        "data=pd.read_csv(\"audit_risk2.csv\", delimiter=\";\")"
      ],
      "metadata": {
        "id": "zoul3a7z24p8"
      },
      "execution_count": 32,
      "outputs": []
    },
    {
      "cell_type": "code",
      "source": [
        "data"
      ],
      "metadata": {
        "colab": {
          "base_uri": "https://localhost:8080/",
          "height": 488
        },
        "id": "h6fK1VOu3EAE",
        "outputId": "062dcddb-7e72-494d-faa1-7073ab46ae0e"
      },
      "execution_count": 33,
      "outputs": [
        {
          "output_type": "execute_result",
          "data": {
            "text/plain": [
              "     Sector_score  LOCATION_ID  PARA_A  Score_A  Risk_A  PARA_B  Score_B  \\\n",
              "0            3.89           23    4.18      0.6   2.508    2.50      0.2   \n",
              "1            3.89            6    0.00      0.2   0.000    4.83      0.2   \n",
              "2            3.89            6    0.51      0.2   0.102    0.23      0.2   \n",
              "3            3.89            6    0.00      0.2   0.000   10.80      0.6   \n",
              "4            3.89            6    0.00      0.2   0.000    0.08      0.2   \n",
              "..            ...          ...     ...      ...     ...     ...      ...   \n",
              "771         55.57            9    0.49      0.2   0.098    0.40      0.2   \n",
              "772         55.57           16    0.47      0.2   0.094    0.37      0.2   \n",
              "773         55.57           14    0.24      0.2   0.048    0.04      0.2   \n",
              "774         55.57           18    0.20      0.2   0.040    0.00      0.2   \n",
              "775         55.57           15    0.00      0.2   0.000    0.00      0.2   \n",
              "\n",
              "     Risk_B  TOTAL  numbers  ...  RiSk_E  History  Prob  Risk_F  Score  \\\n",
              "0     0.500   6.68      5.0  ...     0.4        0   0.2     0.0    2.4   \n",
              "1     0.966   4.83      5.0  ...     0.4        0   0.2     0.0    2.0   \n",
              "2     0.046   0.74      5.0  ...     0.4        0   0.2     0.0    2.0   \n",
              "3     6.480  10.80      6.0  ...     0.4        0   0.2     0.0    4.4   \n",
              "4     0.016   0.08      5.0  ...     0.4        0   0.2     0.0    2.0   \n",
              "..      ...    ...      ...  ...     ...      ...   ...     ...    ...   \n",
              "771   0.080   0.89      5.0  ...     0.4        0   0.2     0.0    2.0   \n",
              "772   0.074   0.84      5.0  ...     0.4        0   0.2     0.0    2.0   \n",
              "773   0.008   0.28      5.0  ...     0.4        0   0.2     0.0    2.0   \n",
              "774   0.000   0.20      5.0  ...     0.4        0   0.2     0.0    2.0   \n",
              "775   0.000   0.00      5.0  ...     0.4        0   0.2     0.0    2.0   \n",
              "\n",
              "     Inherent_Risk  CONTROL_RISK  Detection_Risk  Audit_Risk  Risk  \n",
              "0            8.574           0.4             0.5  17148.0000     1  \n",
              "1            2.554           0.4             0.5      0.5108     0  \n",
              "2            1.548           0.4             0.5      0.3096     0  \n",
              "3           17.530           0.4             0.5   3506.0000     1  \n",
              "4            1.416           0.4             0.5      0.2832     0  \n",
              "..             ...           ...             ...         ...   ...  \n",
              "771          1.578           0.4             0.5      0.3156     0  \n",
              "772          1.568           0.4             0.5      0.3136     0  \n",
              "773          1.456           0.4             0.5      0.2912     0  \n",
              "774          1.440           0.4             0.5      0.2880     0  \n",
              "775          1.464           0.4             0.5      0.2928     0  \n",
              "\n",
              "[776 rows x 27 columns]"
            ],
            "text/html": [
              "\n",
              "  <div id=\"df-b48a03d0-6cf9-4ee1-8b46-7cf17e2cb77b\">\n",
              "    <div class=\"colab-df-container\">\n",
              "      <div>\n",
              "<style scoped>\n",
              "    .dataframe tbody tr th:only-of-type {\n",
              "        vertical-align: middle;\n",
              "    }\n",
              "\n",
              "    .dataframe tbody tr th {\n",
              "        vertical-align: top;\n",
              "    }\n",
              "\n",
              "    .dataframe thead th {\n",
              "        text-align: right;\n",
              "    }\n",
              "</style>\n",
              "<table border=\"1\" class=\"dataframe\">\n",
              "  <thead>\n",
              "    <tr style=\"text-align: right;\">\n",
              "      <th></th>\n",
              "      <th>Sector_score</th>\n",
              "      <th>LOCATION_ID</th>\n",
              "      <th>PARA_A</th>\n",
              "      <th>Score_A</th>\n",
              "      <th>Risk_A</th>\n",
              "      <th>PARA_B</th>\n",
              "      <th>Score_B</th>\n",
              "      <th>Risk_B</th>\n",
              "      <th>TOTAL</th>\n",
              "      <th>numbers</th>\n",
              "      <th>...</th>\n",
              "      <th>RiSk_E</th>\n",
              "      <th>History</th>\n",
              "      <th>Prob</th>\n",
              "      <th>Risk_F</th>\n",
              "      <th>Score</th>\n",
              "      <th>Inherent_Risk</th>\n",
              "      <th>CONTROL_RISK</th>\n",
              "      <th>Detection_Risk</th>\n",
              "      <th>Audit_Risk</th>\n",
              "      <th>Risk</th>\n",
              "    </tr>\n",
              "  </thead>\n",
              "  <tbody>\n",
              "    <tr>\n",
              "      <th>0</th>\n",
              "      <td>3.89</td>\n",
              "      <td>23</td>\n",
              "      <td>4.18</td>\n",
              "      <td>0.6</td>\n",
              "      <td>2.508</td>\n",
              "      <td>2.50</td>\n",
              "      <td>0.2</td>\n",
              "      <td>0.500</td>\n",
              "      <td>6.68</td>\n",
              "      <td>5.0</td>\n",
              "      <td>...</td>\n",
              "      <td>0.4</td>\n",
              "      <td>0</td>\n",
              "      <td>0.2</td>\n",
              "      <td>0.0</td>\n",
              "      <td>2.4</td>\n",
              "      <td>8.574</td>\n",
              "      <td>0.4</td>\n",
              "      <td>0.5</td>\n",
              "      <td>17148.0000</td>\n",
              "      <td>1</td>\n",
              "    </tr>\n",
              "    <tr>\n",
              "      <th>1</th>\n",
              "      <td>3.89</td>\n",
              "      <td>6</td>\n",
              "      <td>0.00</td>\n",
              "      <td>0.2</td>\n",
              "      <td>0.000</td>\n",
              "      <td>4.83</td>\n",
              "      <td>0.2</td>\n",
              "      <td>0.966</td>\n",
              "      <td>4.83</td>\n",
              "      <td>5.0</td>\n",
              "      <td>...</td>\n",
              "      <td>0.4</td>\n",
              "      <td>0</td>\n",
              "      <td>0.2</td>\n",
              "      <td>0.0</td>\n",
              "      <td>2.0</td>\n",
              "      <td>2.554</td>\n",
              "      <td>0.4</td>\n",
              "      <td>0.5</td>\n",
              "      <td>0.5108</td>\n",
              "      <td>0</td>\n",
              "    </tr>\n",
              "    <tr>\n",
              "      <th>2</th>\n",
              "      <td>3.89</td>\n",
              "      <td>6</td>\n",
              "      <td>0.51</td>\n",
              "      <td>0.2</td>\n",
              "      <td>0.102</td>\n",
              "      <td>0.23</td>\n",
              "      <td>0.2</td>\n",
              "      <td>0.046</td>\n",
              "      <td>0.74</td>\n",
              "      <td>5.0</td>\n",
              "      <td>...</td>\n",
              "      <td>0.4</td>\n",
              "      <td>0</td>\n",
              "      <td>0.2</td>\n",
              "      <td>0.0</td>\n",
              "      <td>2.0</td>\n",
              "      <td>1.548</td>\n",
              "      <td>0.4</td>\n",
              "      <td>0.5</td>\n",
              "      <td>0.3096</td>\n",
              "      <td>0</td>\n",
              "    </tr>\n",
              "    <tr>\n",
              "      <th>3</th>\n",
              "      <td>3.89</td>\n",
              "      <td>6</td>\n",
              "      <td>0.00</td>\n",
              "      <td>0.2</td>\n",
              "      <td>0.000</td>\n",
              "      <td>10.80</td>\n",
              "      <td>0.6</td>\n",
              "      <td>6.480</td>\n",
              "      <td>10.80</td>\n",
              "      <td>6.0</td>\n",
              "      <td>...</td>\n",
              "      <td>0.4</td>\n",
              "      <td>0</td>\n",
              "      <td>0.2</td>\n",
              "      <td>0.0</td>\n",
              "      <td>4.4</td>\n",
              "      <td>17.530</td>\n",
              "      <td>0.4</td>\n",
              "      <td>0.5</td>\n",
              "      <td>3506.0000</td>\n",
              "      <td>1</td>\n",
              "    </tr>\n",
              "    <tr>\n",
              "      <th>4</th>\n",
              "      <td>3.89</td>\n",
              "      <td>6</td>\n",
              "      <td>0.00</td>\n",
              "      <td>0.2</td>\n",
              "      <td>0.000</td>\n",
              "      <td>0.08</td>\n",
              "      <td>0.2</td>\n",
              "      <td>0.016</td>\n",
              "      <td>0.08</td>\n",
              "      <td>5.0</td>\n",
              "      <td>...</td>\n",
              "      <td>0.4</td>\n",
              "      <td>0</td>\n",
              "      <td>0.2</td>\n",
              "      <td>0.0</td>\n",
              "      <td>2.0</td>\n",
              "      <td>1.416</td>\n",
              "      <td>0.4</td>\n",
              "      <td>0.5</td>\n",
              "      <td>0.2832</td>\n",
              "      <td>0</td>\n",
              "    </tr>\n",
              "    <tr>\n",
              "      <th>...</th>\n",
              "      <td>...</td>\n",
              "      <td>...</td>\n",
              "      <td>...</td>\n",
              "      <td>...</td>\n",
              "      <td>...</td>\n",
              "      <td>...</td>\n",
              "      <td>...</td>\n",
              "      <td>...</td>\n",
              "      <td>...</td>\n",
              "      <td>...</td>\n",
              "      <td>...</td>\n",
              "      <td>...</td>\n",
              "      <td>...</td>\n",
              "      <td>...</td>\n",
              "      <td>...</td>\n",
              "      <td>...</td>\n",
              "      <td>...</td>\n",
              "      <td>...</td>\n",
              "      <td>...</td>\n",
              "      <td>...</td>\n",
              "      <td>...</td>\n",
              "    </tr>\n",
              "    <tr>\n",
              "      <th>771</th>\n",
              "      <td>55.57</td>\n",
              "      <td>9</td>\n",
              "      <td>0.49</td>\n",
              "      <td>0.2</td>\n",
              "      <td>0.098</td>\n",
              "      <td>0.40</td>\n",
              "      <td>0.2</td>\n",
              "      <td>0.080</td>\n",
              "      <td>0.89</td>\n",
              "      <td>5.0</td>\n",
              "      <td>...</td>\n",
              "      <td>0.4</td>\n",
              "      <td>0</td>\n",
              "      <td>0.2</td>\n",
              "      <td>0.0</td>\n",
              "      <td>2.0</td>\n",
              "      <td>1.578</td>\n",
              "      <td>0.4</td>\n",
              "      <td>0.5</td>\n",
              "      <td>0.3156</td>\n",
              "      <td>0</td>\n",
              "    </tr>\n",
              "    <tr>\n",
              "      <th>772</th>\n",
              "      <td>55.57</td>\n",
              "      <td>16</td>\n",
              "      <td>0.47</td>\n",
              "      <td>0.2</td>\n",
              "      <td>0.094</td>\n",
              "      <td>0.37</td>\n",
              "      <td>0.2</td>\n",
              "      <td>0.074</td>\n",
              "      <td>0.84</td>\n",
              "      <td>5.0</td>\n",
              "      <td>...</td>\n",
              "      <td>0.4</td>\n",
              "      <td>0</td>\n",
              "      <td>0.2</td>\n",
              "      <td>0.0</td>\n",
              "      <td>2.0</td>\n",
              "      <td>1.568</td>\n",
              "      <td>0.4</td>\n",
              "      <td>0.5</td>\n",
              "      <td>0.3136</td>\n",
              "      <td>0</td>\n",
              "    </tr>\n",
              "    <tr>\n",
              "      <th>773</th>\n",
              "      <td>55.57</td>\n",
              "      <td>14</td>\n",
              "      <td>0.24</td>\n",
              "      <td>0.2</td>\n",
              "      <td>0.048</td>\n",
              "      <td>0.04</td>\n",
              "      <td>0.2</td>\n",
              "      <td>0.008</td>\n",
              "      <td>0.28</td>\n",
              "      <td>5.0</td>\n",
              "      <td>...</td>\n",
              "      <td>0.4</td>\n",
              "      <td>0</td>\n",
              "      <td>0.2</td>\n",
              "      <td>0.0</td>\n",
              "      <td>2.0</td>\n",
              "      <td>1.456</td>\n",
              "      <td>0.4</td>\n",
              "      <td>0.5</td>\n",
              "      <td>0.2912</td>\n",
              "      <td>0</td>\n",
              "    </tr>\n",
              "    <tr>\n",
              "      <th>774</th>\n",
              "      <td>55.57</td>\n",
              "      <td>18</td>\n",
              "      <td>0.20</td>\n",
              "      <td>0.2</td>\n",
              "      <td>0.040</td>\n",
              "      <td>0.00</td>\n",
              "      <td>0.2</td>\n",
              "      <td>0.000</td>\n",
              "      <td>0.20</td>\n",
              "      <td>5.0</td>\n",
              "      <td>...</td>\n",
              "      <td>0.4</td>\n",
              "      <td>0</td>\n",
              "      <td>0.2</td>\n",
              "      <td>0.0</td>\n",
              "      <td>2.0</td>\n",
              "      <td>1.440</td>\n",
              "      <td>0.4</td>\n",
              "      <td>0.5</td>\n",
              "      <td>0.2880</td>\n",
              "      <td>0</td>\n",
              "    </tr>\n",
              "    <tr>\n",
              "      <th>775</th>\n",
              "      <td>55.57</td>\n",
              "      <td>15</td>\n",
              "      <td>0.00</td>\n",
              "      <td>0.2</td>\n",
              "      <td>0.000</td>\n",
              "      <td>0.00</td>\n",
              "      <td>0.2</td>\n",
              "      <td>0.000</td>\n",
              "      <td>0.00</td>\n",
              "      <td>5.0</td>\n",
              "      <td>...</td>\n",
              "      <td>0.4</td>\n",
              "      <td>0</td>\n",
              "      <td>0.2</td>\n",
              "      <td>0.0</td>\n",
              "      <td>2.0</td>\n",
              "      <td>1.464</td>\n",
              "      <td>0.4</td>\n",
              "      <td>0.5</td>\n",
              "      <td>0.2928</td>\n",
              "      <td>0</td>\n",
              "    </tr>\n",
              "  </tbody>\n",
              "</table>\n",
              "<p>776 rows × 27 columns</p>\n",
              "</div>\n",
              "      <button class=\"colab-df-convert\" onclick=\"convertToInteractive('df-b48a03d0-6cf9-4ee1-8b46-7cf17e2cb77b')\"\n",
              "              title=\"Convert this dataframe to an interactive table.\"\n",
              "              style=\"display:none;\">\n",
              "        \n",
              "  <svg xmlns=\"http://www.w3.org/2000/svg\" height=\"24px\"viewBox=\"0 0 24 24\"\n",
              "       width=\"24px\">\n",
              "    <path d=\"M0 0h24v24H0V0z\" fill=\"none\"/>\n",
              "    <path d=\"M18.56 5.44l.94 2.06.94-2.06 2.06-.94-2.06-.94-.94-2.06-.94 2.06-2.06.94zm-11 1L8.5 8.5l.94-2.06 2.06-.94-2.06-.94L8.5 2.5l-.94 2.06-2.06.94zm10 10l.94 2.06.94-2.06 2.06-.94-2.06-.94-.94-2.06-.94 2.06-2.06.94z\"/><path d=\"M17.41 7.96l-1.37-1.37c-.4-.4-.92-.59-1.43-.59-.52 0-1.04.2-1.43.59L10.3 9.45l-7.72 7.72c-.78.78-.78 2.05 0 2.83L4 21.41c.39.39.9.59 1.41.59.51 0 1.02-.2 1.41-.59l7.78-7.78 2.81-2.81c.8-.78.8-2.07 0-2.86zM5.41 20L4 18.59l7.72-7.72 1.47 1.35L5.41 20z\"/>\n",
              "  </svg>\n",
              "      </button>\n",
              "      \n",
              "  <style>\n",
              "    .colab-df-container {\n",
              "      display:flex;\n",
              "      flex-wrap:wrap;\n",
              "      gap: 12px;\n",
              "    }\n",
              "\n",
              "    .colab-df-convert {\n",
              "      background-color: #E8F0FE;\n",
              "      border: none;\n",
              "      border-radius: 50%;\n",
              "      cursor: pointer;\n",
              "      display: none;\n",
              "      fill: #1967D2;\n",
              "      height: 32px;\n",
              "      padding: 0 0 0 0;\n",
              "      width: 32px;\n",
              "    }\n",
              "\n",
              "    .colab-df-convert:hover {\n",
              "      background-color: #E2EBFA;\n",
              "      box-shadow: 0px 1px 2px rgba(60, 64, 67, 0.3), 0px 1px 3px 1px rgba(60, 64, 67, 0.15);\n",
              "      fill: #174EA6;\n",
              "    }\n",
              "\n",
              "    [theme=dark] .colab-df-convert {\n",
              "      background-color: #3B4455;\n",
              "      fill: #D2E3FC;\n",
              "    }\n",
              "\n",
              "    [theme=dark] .colab-df-convert:hover {\n",
              "      background-color: #434B5C;\n",
              "      box-shadow: 0px 1px 3px 1px rgba(0, 0, 0, 0.15);\n",
              "      filter: drop-shadow(0px 1px 2px rgba(0, 0, 0, 0.3));\n",
              "      fill: #FFFFFF;\n",
              "    }\n",
              "  </style>\n",
              "\n",
              "      <script>\n",
              "        const buttonEl =\n",
              "          document.querySelector('#df-b48a03d0-6cf9-4ee1-8b46-7cf17e2cb77b button.colab-df-convert');\n",
              "        buttonEl.style.display =\n",
              "          google.colab.kernel.accessAllowed ? 'block' : 'none';\n",
              "\n",
              "        async function convertToInteractive(key) {\n",
              "          const element = document.querySelector('#df-b48a03d0-6cf9-4ee1-8b46-7cf17e2cb77b');\n",
              "          const dataTable =\n",
              "            await google.colab.kernel.invokeFunction('convertToInteractive',\n",
              "                                                     [key], {});\n",
              "          if (!dataTable) return;\n",
              "\n",
              "          const docLinkHtml = 'Like what you see? Visit the ' +\n",
              "            '<a target=\"_blank\" href=https://colab.research.google.com/notebooks/data_table.ipynb>data table notebook</a>'\n",
              "            + ' to learn more about interactive tables.';\n",
              "          element.innerHTML = '';\n",
              "          dataTable['output_type'] = 'display_data';\n",
              "          await google.colab.output.renderOutput(dataTable, element);\n",
              "          const docLink = document.createElement('div');\n",
              "          docLink.innerHTML = docLinkHtml;\n",
              "          element.appendChild(docLink);\n",
              "        }\n",
              "      </script>\n",
              "    </div>\n",
              "  </div>\n",
              "  "
            ]
          },
          "metadata": {},
          "execution_count": 33
        }
      ]
    },
    {
      "cell_type": "markdown",
      "source": [
        "Se encontraron dos filas con registros Nan por lo que esos registros no se tendran en cuenta en el estudio. "
      ],
      "metadata": {
        "id": "kOz4SdTtlL5k"
      }
    },
    {
      "cell_type": "code",
      "source": [
        "data=data.dropna()"
      ],
      "metadata": {
        "id": "bWXn0YBAPb4Z"
      },
      "execution_count": 117,
      "outputs": []
    },
    {
      "cell_type": "code",
      "source": [
        "data.columns"
      ],
      "metadata": {
        "colab": {
          "base_uri": "https://localhost:8080/"
        },
        "id": "A-osmtXLBGOa",
        "outputId": "afaadcda-a406-48b2-df15-2b0e26ff2234"
      },
      "execution_count": 118,
      "outputs": [
        {
          "output_type": "execute_result",
          "data": {
            "text/plain": [
              "Index(['Sector_score', 'LOCATION_ID', 'PARA_A', 'Score_A', 'Risk_A', 'PARA_B',\n",
              "       'Score_B', 'Risk_B', 'TOTAL', 'numbers', 'Score_B.1', 'Risk_C',\n",
              "       'Money_Value', 'Score_MV', 'Risk_D', 'District_Loss', 'PROB', 'RiSk_E',\n",
              "       'History', 'Prob', 'Risk_F', 'Score', 'Inherent_Risk', 'CONTROL_RISK',\n",
              "       'Detection_Risk', 'Audit_Risk', 'Risk'],\n",
              "      dtype='object')"
            ]
          },
          "metadata": {},
          "execution_count": 118
        }
      ]
    },
    {
      "cell_type": "markdown",
      "source": [
        "## Descipción de las variables"
      ],
      "metadata": {
        "id": "SexH4HxvlAka"
      }
    },
    {
      "cell_type": "code",
      "source": [
        "data.describe().T"
      ],
      "metadata": {
        "colab": {
          "base_uri": "https://localhost:8080/",
          "height": 896
        },
        "id": "qhGeBCQ23l3c",
        "outputId": "cfb7a836-454b-4f5b-cced-46f92aa66c63"
      },
      "execution_count": 119,
      "outputs": [
        {
          "output_type": "execute_result",
          "data": {
            "text/plain": [
              "                count          mean            std   min     25%     50%  \\\n",
              "Sector_score    775.0     20.138877      24.301417  1.85  2.3700   3.890   \n",
              "LOCATION_ID     775.0     14.860645       9.878130  1.00  8.0000  13.000   \n",
              "PARA_A          775.0      2.453059       5.681977  0.00  0.2100   0.880   \n",
              "Score_A         775.0      0.351484       0.174082  0.20  0.2000   0.200   \n",
              "Risk_A          775.0      1.352712       3.442348  0.00  0.0420   0.176   \n",
              "PARA_B          775.0     10.813924      50.114461  0.00  0.0000   0.410   \n",
              "Score_B         775.0      0.313290       0.169865  0.20  0.2000   0.200   \n",
              "Risk_B          775.0      6.342181      30.091403  0.00  0.0000   0.082   \n",
              "TOTAL           775.0     13.248138      51.342047  0.00  0.5400   1.390   \n",
              "numbers         775.0      5.067742       0.264608  5.00  5.0000   5.000   \n",
              "Score_B.1       775.0      0.223742       0.080399  0.20  0.2000   0.200   \n",
              "Risk_C          775.0      1.153161       0.537736  1.00  1.0000   1.000   \n",
              "Money_Value     775.0     14.137631      66.606519  0.00  0.0000   0.090   \n",
              "Score_MV        775.0      0.291097       0.159815  0.20  0.2000   0.200   \n",
              "Risk_D          775.0      8.276099      39.995557  0.00  0.0000   0.018   \n",
              "District_Loss   775.0      2.505806       1.229338  2.00  2.0000   2.000   \n",
              "PROB            775.0      0.206194       0.037532  0.20  0.2000   0.200   \n",
              "RiSk_E          775.0      0.519226       0.290468  0.40  0.4000   0.400   \n",
              "History         775.0      0.104516       0.531360  0.00  0.0000   0.000   \n",
              "Prob            775.0      0.216774       0.068028  0.20  0.2000   0.200   \n",
              "Risk_F          775.0      0.053677       0.306027  0.00  0.0000   0.000   \n",
              "Score           775.0      2.703484       0.859106  2.00  2.0000   2.400   \n",
              "Inherent_Risk   775.0     19.244338      56.564139  1.40  1.5940   2.264   \n",
              "CONTROL_RISK    775.0      0.572903       0.444825  0.40  0.4000   0.400   \n",
              "Detection_Risk  775.0      0.500000       0.000000  0.50  0.5000   0.500   \n",
              "Audit_Risk      775.0  64096.560602  389506.047835  0.28  0.3168   0.556   \n",
              "Risk            775.0      0.393548       0.488852  0.00  0.0000   0.000   \n",
              "\n",
              "                      75%          max  \n",
              "Sector_score       55.570       59.850  \n",
              "LOCATION_ID        19.000       44.000  \n",
              "PARA_A              2.480       85.000  \n",
              "Score_A             0.600        0.600  \n",
              "Risk_A              1.488       51.000  \n",
              "PARA_B              4.160     1264.630  \n",
              "Score_B             0.400        0.600  \n",
              "Risk_B              1.887      758.778  \n",
              "TOTAL               7.775     1268.910  \n",
              "numbers             5.000        9.000  \n",
              "Score_B.1           0.200        0.600  \n",
              "Risk_C              1.000        5.400  \n",
              "Money_Value         5.595      935.030  \n",
              "Score_MV            0.400        0.600  \n",
              "Risk_D              2.238      561.018  \n",
              "District_Loss       2.000        6.000  \n",
              "PROB                0.200        0.600  \n",
              "RiSk_E              0.400        2.400  \n",
              "History             0.000        9.000  \n",
              "Prob                0.200        0.600  \n",
              "Risk_F              0.000        5.400  \n",
              "Score               3.300        5.200  \n",
              "Inherent_Risk      12.639      801.262  \n",
              "CONTROL_RISK        0.400        5.800  \n",
              "Detection_Risk      0.500        0.500  \n",
              "Audit_Risk      19225.000  9615144.000  \n",
              "Risk                1.000        1.000  "
            ],
            "text/html": [
              "\n",
              "  <div id=\"df-a0f0e1c1-d088-4158-91a0-b2311ed4a812\">\n",
              "    <div class=\"colab-df-container\">\n",
              "      <div>\n",
              "<style scoped>\n",
              "    .dataframe tbody tr th:only-of-type {\n",
              "        vertical-align: middle;\n",
              "    }\n",
              "\n",
              "    .dataframe tbody tr th {\n",
              "        vertical-align: top;\n",
              "    }\n",
              "\n",
              "    .dataframe thead th {\n",
              "        text-align: right;\n",
              "    }\n",
              "</style>\n",
              "<table border=\"1\" class=\"dataframe\">\n",
              "  <thead>\n",
              "    <tr style=\"text-align: right;\">\n",
              "      <th></th>\n",
              "      <th>count</th>\n",
              "      <th>mean</th>\n",
              "      <th>std</th>\n",
              "      <th>min</th>\n",
              "      <th>25%</th>\n",
              "      <th>50%</th>\n",
              "      <th>75%</th>\n",
              "      <th>max</th>\n",
              "    </tr>\n",
              "  </thead>\n",
              "  <tbody>\n",
              "    <tr>\n",
              "      <th>Sector_score</th>\n",
              "      <td>775.0</td>\n",
              "      <td>20.138877</td>\n",
              "      <td>24.301417</td>\n",
              "      <td>1.85</td>\n",
              "      <td>2.3700</td>\n",
              "      <td>3.890</td>\n",
              "      <td>55.570</td>\n",
              "      <td>59.850</td>\n",
              "    </tr>\n",
              "    <tr>\n",
              "      <th>LOCATION_ID</th>\n",
              "      <td>775.0</td>\n",
              "      <td>14.860645</td>\n",
              "      <td>9.878130</td>\n",
              "      <td>1.00</td>\n",
              "      <td>8.0000</td>\n",
              "      <td>13.000</td>\n",
              "      <td>19.000</td>\n",
              "      <td>44.000</td>\n",
              "    </tr>\n",
              "    <tr>\n",
              "      <th>PARA_A</th>\n",
              "      <td>775.0</td>\n",
              "      <td>2.453059</td>\n",
              "      <td>5.681977</td>\n",
              "      <td>0.00</td>\n",
              "      <td>0.2100</td>\n",
              "      <td>0.880</td>\n",
              "      <td>2.480</td>\n",
              "      <td>85.000</td>\n",
              "    </tr>\n",
              "    <tr>\n",
              "      <th>Score_A</th>\n",
              "      <td>775.0</td>\n",
              "      <td>0.351484</td>\n",
              "      <td>0.174082</td>\n",
              "      <td>0.20</td>\n",
              "      <td>0.2000</td>\n",
              "      <td>0.200</td>\n",
              "      <td>0.600</td>\n",
              "      <td>0.600</td>\n",
              "    </tr>\n",
              "    <tr>\n",
              "      <th>Risk_A</th>\n",
              "      <td>775.0</td>\n",
              "      <td>1.352712</td>\n",
              "      <td>3.442348</td>\n",
              "      <td>0.00</td>\n",
              "      <td>0.0420</td>\n",
              "      <td>0.176</td>\n",
              "      <td>1.488</td>\n",
              "      <td>51.000</td>\n",
              "    </tr>\n",
              "    <tr>\n",
              "      <th>PARA_B</th>\n",
              "      <td>775.0</td>\n",
              "      <td>10.813924</td>\n",
              "      <td>50.114461</td>\n",
              "      <td>0.00</td>\n",
              "      <td>0.0000</td>\n",
              "      <td>0.410</td>\n",
              "      <td>4.160</td>\n",
              "      <td>1264.630</td>\n",
              "    </tr>\n",
              "    <tr>\n",
              "      <th>Score_B</th>\n",
              "      <td>775.0</td>\n",
              "      <td>0.313290</td>\n",
              "      <td>0.169865</td>\n",
              "      <td>0.20</td>\n",
              "      <td>0.2000</td>\n",
              "      <td>0.200</td>\n",
              "      <td>0.400</td>\n",
              "      <td>0.600</td>\n",
              "    </tr>\n",
              "    <tr>\n",
              "      <th>Risk_B</th>\n",
              "      <td>775.0</td>\n",
              "      <td>6.342181</td>\n",
              "      <td>30.091403</td>\n",
              "      <td>0.00</td>\n",
              "      <td>0.0000</td>\n",
              "      <td>0.082</td>\n",
              "      <td>1.887</td>\n",
              "      <td>758.778</td>\n",
              "    </tr>\n",
              "    <tr>\n",
              "      <th>TOTAL</th>\n",
              "      <td>775.0</td>\n",
              "      <td>13.248138</td>\n",
              "      <td>51.342047</td>\n",
              "      <td>0.00</td>\n",
              "      <td>0.5400</td>\n",
              "      <td>1.390</td>\n",
              "      <td>7.775</td>\n",
              "      <td>1268.910</td>\n",
              "    </tr>\n",
              "    <tr>\n",
              "      <th>numbers</th>\n",
              "      <td>775.0</td>\n",
              "      <td>5.067742</td>\n",
              "      <td>0.264608</td>\n",
              "      <td>5.00</td>\n",
              "      <td>5.0000</td>\n",
              "      <td>5.000</td>\n",
              "      <td>5.000</td>\n",
              "      <td>9.000</td>\n",
              "    </tr>\n",
              "    <tr>\n",
              "      <th>Score_B.1</th>\n",
              "      <td>775.0</td>\n",
              "      <td>0.223742</td>\n",
              "      <td>0.080399</td>\n",
              "      <td>0.20</td>\n",
              "      <td>0.2000</td>\n",
              "      <td>0.200</td>\n",
              "      <td>0.200</td>\n",
              "      <td>0.600</td>\n",
              "    </tr>\n",
              "    <tr>\n",
              "      <th>Risk_C</th>\n",
              "      <td>775.0</td>\n",
              "      <td>1.153161</td>\n",
              "      <td>0.537736</td>\n",
              "      <td>1.00</td>\n",
              "      <td>1.0000</td>\n",
              "      <td>1.000</td>\n",
              "      <td>1.000</td>\n",
              "      <td>5.400</td>\n",
              "    </tr>\n",
              "    <tr>\n",
              "      <th>Money_Value</th>\n",
              "      <td>775.0</td>\n",
              "      <td>14.137631</td>\n",
              "      <td>66.606519</td>\n",
              "      <td>0.00</td>\n",
              "      <td>0.0000</td>\n",
              "      <td>0.090</td>\n",
              "      <td>5.595</td>\n",
              "      <td>935.030</td>\n",
              "    </tr>\n",
              "    <tr>\n",
              "      <th>Score_MV</th>\n",
              "      <td>775.0</td>\n",
              "      <td>0.291097</td>\n",
              "      <td>0.159815</td>\n",
              "      <td>0.20</td>\n",
              "      <td>0.2000</td>\n",
              "      <td>0.200</td>\n",
              "      <td>0.400</td>\n",
              "      <td>0.600</td>\n",
              "    </tr>\n",
              "    <tr>\n",
              "      <th>Risk_D</th>\n",
              "      <td>775.0</td>\n",
              "      <td>8.276099</td>\n",
              "      <td>39.995557</td>\n",
              "      <td>0.00</td>\n",
              "      <td>0.0000</td>\n",
              "      <td>0.018</td>\n",
              "      <td>2.238</td>\n",
              "      <td>561.018</td>\n",
              "    </tr>\n",
              "    <tr>\n",
              "      <th>District_Loss</th>\n",
              "      <td>775.0</td>\n",
              "      <td>2.505806</td>\n",
              "      <td>1.229338</td>\n",
              "      <td>2.00</td>\n",
              "      <td>2.0000</td>\n",
              "      <td>2.000</td>\n",
              "      <td>2.000</td>\n",
              "      <td>6.000</td>\n",
              "    </tr>\n",
              "    <tr>\n",
              "      <th>PROB</th>\n",
              "      <td>775.0</td>\n",
              "      <td>0.206194</td>\n",
              "      <td>0.037532</td>\n",
              "      <td>0.20</td>\n",
              "      <td>0.2000</td>\n",
              "      <td>0.200</td>\n",
              "      <td>0.200</td>\n",
              "      <td>0.600</td>\n",
              "    </tr>\n",
              "    <tr>\n",
              "      <th>RiSk_E</th>\n",
              "      <td>775.0</td>\n",
              "      <td>0.519226</td>\n",
              "      <td>0.290468</td>\n",
              "      <td>0.40</td>\n",
              "      <td>0.4000</td>\n",
              "      <td>0.400</td>\n",
              "      <td>0.400</td>\n",
              "      <td>2.400</td>\n",
              "    </tr>\n",
              "    <tr>\n",
              "      <th>History</th>\n",
              "      <td>775.0</td>\n",
              "      <td>0.104516</td>\n",
              "      <td>0.531360</td>\n",
              "      <td>0.00</td>\n",
              "      <td>0.0000</td>\n",
              "      <td>0.000</td>\n",
              "      <td>0.000</td>\n",
              "      <td>9.000</td>\n",
              "    </tr>\n",
              "    <tr>\n",
              "      <th>Prob</th>\n",
              "      <td>775.0</td>\n",
              "      <td>0.216774</td>\n",
              "      <td>0.068028</td>\n",
              "      <td>0.20</td>\n",
              "      <td>0.2000</td>\n",
              "      <td>0.200</td>\n",
              "      <td>0.200</td>\n",
              "      <td>0.600</td>\n",
              "    </tr>\n",
              "    <tr>\n",
              "      <th>Risk_F</th>\n",
              "      <td>775.0</td>\n",
              "      <td>0.053677</td>\n",
              "      <td>0.306027</td>\n",
              "      <td>0.00</td>\n",
              "      <td>0.0000</td>\n",
              "      <td>0.000</td>\n",
              "      <td>0.000</td>\n",
              "      <td>5.400</td>\n",
              "    </tr>\n",
              "    <tr>\n",
              "      <th>Score</th>\n",
              "      <td>775.0</td>\n",
              "      <td>2.703484</td>\n",
              "      <td>0.859106</td>\n",
              "      <td>2.00</td>\n",
              "      <td>2.0000</td>\n",
              "      <td>2.400</td>\n",
              "      <td>3.300</td>\n",
              "      <td>5.200</td>\n",
              "    </tr>\n",
              "    <tr>\n",
              "      <th>Inherent_Risk</th>\n",
              "      <td>775.0</td>\n",
              "      <td>19.244338</td>\n",
              "      <td>56.564139</td>\n",
              "      <td>1.40</td>\n",
              "      <td>1.5940</td>\n",
              "      <td>2.264</td>\n",
              "      <td>12.639</td>\n",
              "      <td>801.262</td>\n",
              "    </tr>\n",
              "    <tr>\n",
              "      <th>CONTROL_RISK</th>\n",
              "      <td>775.0</td>\n",
              "      <td>0.572903</td>\n",
              "      <td>0.444825</td>\n",
              "      <td>0.40</td>\n",
              "      <td>0.4000</td>\n",
              "      <td>0.400</td>\n",
              "      <td>0.400</td>\n",
              "      <td>5.800</td>\n",
              "    </tr>\n",
              "    <tr>\n",
              "      <th>Detection_Risk</th>\n",
              "      <td>775.0</td>\n",
              "      <td>0.500000</td>\n",
              "      <td>0.000000</td>\n",
              "      <td>0.50</td>\n",
              "      <td>0.5000</td>\n",
              "      <td>0.500</td>\n",
              "      <td>0.500</td>\n",
              "      <td>0.500</td>\n",
              "    </tr>\n",
              "    <tr>\n",
              "      <th>Audit_Risk</th>\n",
              "      <td>775.0</td>\n",
              "      <td>64096.560602</td>\n",
              "      <td>389506.047835</td>\n",
              "      <td>0.28</td>\n",
              "      <td>0.3168</td>\n",
              "      <td>0.556</td>\n",
              "      <td>19225.000</td>\n",
              "      <td>9615144.000</td>\n",
              "    </tr>\n",
              "    <tr>\n",
              "      <th>Risk</th>\n",
              "      <td>775.0</td>\n",
              "      <td>0.393548</td>\n",
              "      <td>0.488852</td>\n",
              "      <td>0.00</td>\n",
              "      <td>0.0000</td>\n",
              "      <td>0.000</td>\n",
              "      <td>1.000</td>\n",
              "      <td>1.000</td>\n",
              "    </tr>\n",
              "  </tbody>\n",
              "</table>\n",
              "</div>\n",
              "      <button class=\"colab-df-convert\" onclick=\"convertToInteractive('df-a0f0e1c1-d088-4158-91a0-b2311ed4a812')\"\n",
              "              title=\"Convert this dataframe to an interactive table.\"\n",
              "              style=\"display:none;\">\n",
              "        \n",
              "  <svg xmlns=\"http://www.w3.org/2000/svg\" height=\"24px\"viewBox=\"0 0 24 24\"\n",
              "       width=\"24px\">\n",
              "    <path d=\"M0 0h24v24H0V0z\" fill=\"none\"/>\n",
              "    <path d=\"M18.56 5.44l.94 2.06.94-2.06 2.06-.94-2.06-.94-.94-2.06-.94 2.06-2.06.94zm-11 1L8.5 8.5l.94-2.06 2.06-.94-2.06-.94L8.5 2.5l-.94 2.06-2.06.94zm10 10l.94 2.06.94-2.06 2.06-.94-2.06-.94-.94-2.06-.94 2.06-2.06.94z\"/><path d=\"M17.41 7.96l-1.37-1.37c-.4-.4-.92-.59-1.43-.59-.52 0-1.04.2-1.43.59L10.3 9.45l-7.72 7.72c-.78.78-.78 2.05 0 2.83L4 21.41c.39.39.9.59 1.41.59.51 0 1.02-.2 1.41-.59l7.78-7.78 2.81-2.81c.8-.78.8-2.07 0-2.86zM5.41 20L4 18.59l7.72-7.72 1.47 1.35L5.41 20z\"/>\n",
              "  </svg>\n",
              "      </button>\n",
              "      \n",
              "  <style>\n",
              "    .colab-df-container {\n",
              "      display:flex;\n",
              "      flex-wrap:wrap;\n",
              "      gap: 12px;\n",
              "    }\n",
              "\n",
              "    .colab-df-convert {\n",
              "      background-color: #E8F0FE;\n",
              "      border: none;\n",
              "      border-radius: 50%;\n",
              "      cursor: pointer;\n",
              "      display: none;\n",
              "      fill: #1967D2;\n",
              "      height: 32px;\n",
              "      padding: 0 0 0 0;\n",
              "      width: 32px;\n",
              "    }\n",
              "\n",
              "    .colab-df-convert:hover {\n",
              "      background-color: #E2EBFA;\n",
              "      box-shadow: 0px 1px 2px rgba(60, 64, 67, 0.3), 0px 1px 3px 1px rgba(60, 64, 67, 0.15);\n",
              "      fill: #174EA6;\n",
              "    }\n",
              "\n",
              "    [theme=dark] .colab-df-convert {\n",
              "      background-color: #3B4455;\n",
              "      fill: #D2E3FC;\n",
              "    }\n",
              "\n",
              "    [theme=dark] .colab-df-convert:hover {\n",
              "      background-color: #434B5C;\n",
              "      box-shadow: 0px 1px 3px 1px rgba(0, 0, 0, 0.15);\n",
              "      filter: drop-shadow(0px 1px 2px rgba(0, 0, 0, 0.3));\n",
              "      fill: #FFFFFF;\n",
              "    }\n",
              "  </style>\n",
              "\n",
              "      <script>\n",
              "        const buttonEl =\n",
              "          document.querySelector('#df-a0f0e1c1-d088-4158-91a0-b2311ed4a812 button.colab-df-convert');\n",
              "        buttonEl.style.display =\n",
              "          google.colab.kernel.accessAllowed ? 'block' : 'none';\n",
              "\n",
              "        async function convertToInteractive(key) {\n",
              "          const element = document.querySelector('#df-a0f0e1c1-d088-4158-91a0-b2311ed4a812');\n",
              "          const dataTable =\n",
              "            await google.colab.kernel.invokeFunction('convertToInteractive',\n",
              "                                                     [key], {});\n",
              "          if (!dataTable) return;\n",
              "\n",
              "          const docLinkHtml = 'Like what you see? Visit the ' +\n",
              "            '<a target=\"_blank\" href=https://colab.research.google.com/notebooks/data_table.ipynb>data table notebook</a>'\n",
              "            + ' to learn more about interactive tables.';\n",
              "          element.innerHTML = '';\n",
              "          dataTable['output_type'] = 'display_data';\n",
              "          await google.colab.output.renderOutput(dataTable, element);\n",
              "          const docLink = document.createElement('div');\n",
              "          docLink.innerHTML = docLinkHtml;\n",
              "          element.appendChild(docLink);\n",
              "        }\n",
              "      </script>\n",
              "    </div>\n",
              "  </div>\n",
              "  "
            ]
          },
          "metadata": {},
          "execution_count": 119
        }
      ]
    },
    {
      "cell_type": "code",
      "source": [
        "data0=data.drop(columns=\"Risk\")"
      ],
      "metadata": {
        "id": "61OM1XyQ5Zoi"
      },
      "execution_count": 120,
      "outputs": []
    },
    {
      "cell_type": "code",
      "source": [
        "data0.head()"
      ],
      "metadata": {
        "colab": {
          "base_uri": "https://localhost:8080/",
          "height": 300
        },
        "id": "wlK1T5ln5iv_",
        "outputId": "1fc36780-54c3-45ac-8ff3-edf9951453c7"
      },
      "execution_count": 121,
      "outputs": [
        {
          "output_type": "execute_result",
          "data": {
            "text/plain": [
              "   Sector_score  LOCATION_ID  PARA_A  Score_A  Risk_A  PARA_B  Score_B  \\\n",
              "0          3.89           23    4.18      0.6   2.508    2.50      0.2   \n",
              "1          3.89            6    0.00      0.2   0.000    4.83      0.2   \n",
              "2          3.89            6    0.51      0.2   0.102    0.23      0.2   \n",
              "3          3.89            6    0.00      0.2   0.000   10.80      0.6   \n",
              "4          3.89            6    0.00      0.2   0.000    0.08      0.2   \n",
              "\n",
              "   Risk_B  TOTAL  numbers  ...  PROB  RiSk_E  History  Prob  Risk_F  Score  \\\n",
              "0   0.500   6.68      5.0  ...   0.2     0.4        0   0.2     0.0    2.4   \n",
              "1   0.966   4.83      5.0  ...   0.2     0.4        0   0.2     0.0    2.0   \n",
              "2   0.046   0.74      5.0  ...   0.2     0.4        0   0.2     0.0    2.0   \n",
              "3   6.480  10.80      6.0  ...   0.2     0.4        0   0.2     0.0    4.4   \n",
              "4   0.016   0.08      5.0  ...   0.2     0.4        0   0.2     0.0    2.0   \n",
              "\n",
              "   Inherent_Risk  CONTROL_RISK  Detection_Risk  Audit_Risk  \n",
              "0          8.574           0.4             0.5  17148.0000  \n",
              "1          2.554           0.4             0.5      0.5108  \n",
              "2          1.548           0.4             0.5      0.3096  \n",
              "3         17.530           0.4             0.5   3506.0000  \n",
              "4          1.416           0.4             0.5      0.2832  \n",
              "\n",
              "[5 rows x 26 columns]"
            ],
            "text/html": [
              "\n",
              "  <div id=\"df-852c0872-747f-4583-ac1a-a68f36e62422\">\n",
              "    <div class=\"colab-df-container\">\n",
              "      <div>\n",
              "<style scoped>\n",
              "    .dataframe tbody tr th:only-of-type {\n",
              "        vertical-align: middle;\n",
              "    }\n",
              "\n",
              "    .dataframe tbody tr th {\n",
              "        vertical-align: top;\n",
              "    }\n",
              "\n",
              "    .dataframe thead th {\n",
              "        text-align: right;\n",
              "    }\n",
              "</style>\n",
              "<table border=\"1\" class=\"dataframe\">\n",
              "  <thead>\n",
              "    <tr style=\"text-align: right;\">\n",
              "      <th></th>\n",
              "      <th>Sector_score</th>\n",
              "      <th>LOCATION_ID</th>\n",
              "      <th>PARA_A</th>\n",
              "      <th>Score_A</th>\n",
              "      <th>Risk_A</th>\n",
              "      <th>PARA_B</th>\n",
              "      <th>Score_B</th>\n",
              "      <th>Risk_B</th>\n",
              "      <th>TOTAL</th>\n",
              "      <th>numbers</th>\n",
              "      <th>...</th>\n",
              "      <th>PROB</th>\n",
              "      <th>RiSk_E</th>\n",
              "      <th>History</th>\n",
              "      <th>Prob</th>\n",
              "      <th>Risk_F</th>\n",
              "      <th>Score</th>\n",
              "      <th>Inherent_Risk</th>\n",
              "      <th>CONTROL_RISK</th>\n",
              "      <th>Detection_Risk</th>\n",
              "      <th>Audit_Risk</th>\n",
              "    </tr>\n",
              "  </thead>\n",
              "  <tbody>\n",
              "    <tr>\n",
              "      <th>0</th>\n",
              "      <td>3.89</td>\n",
              "      <td>23</td>\n",
              "      <td>4.18</td>\n",
              "      <td>0.6</td>\n",
              "      <td>2.508</td>\n",
              "      <td>2.50</td>\n",
              "      <td>0.2</td>\n",
              "      <td>0.500</td>\n",
              "      <td>6.68</td>\n",
              "      <td>5.0</td>\n",
              "      <td>...</td>\n",
              "      <td>0.2</td>\n",
              "      <td>0.4</td>\n",
              "      <td>0</td>\n",
              "      <td>0.2</td>\n",
              "      <td>0.0</td>\n",
              "      <td>2.4</td>\n",
              "      <td>8.574</td>\n",
              "      <td>0.4</td>\n",
              "      <td>0.5</td>\n",
              "      <td>17148.0000</td>\n",
              "    </tr>\n",
              "    <tr>\n",
              "      <th>1</th>\n",
              "      <td>3.89</td>\n",
              "      <td>6</td>\n",
              "      <td>0.00</td>\n",
              "      <td>0.2</td>\n",
              "      <td>0.000</td>\n",
              "      <td>4.83</td>\n",
              "      <td>0.2</td>\n",
              "      <td>0.966</td>\n",
              "      <td>4.83</td>\n",
              "      <td>5.0</td>\n",
              "      <td>...</td>\n",
              "      <td>0.2</td>\n",
              "      <td>0.4</td>\n",
              "      <td>0</td>\n",
              "      <td>0.2</td>\n",
              "      <td>0.0</td>\n",
              "      <td>2.0</td>\n",
              "      <td>2.554</td>\n",
              "      <td>0.4</td>\n",
              "      <td>0.5</td>\n",
              "      <td>0.5108</td>\n",
              "    </tr>\n",
              "    <tr>\n",
              "      <th>2</th>\n",
              "      <td>3.89</td>\n",
              "      <td>6</td>\n",
              "      <td>0.51</td>\n",
              "      <td>0.2</td>\n",
              "      <td>0.102</td>\n",
              "      <td>0.23</td>\n",
              "      <td>0.2</td>\n",
              "      <td>0.046</td>\n",
              "      <td>0.74</td>\n",
              "      <td>5.0</td>\n",
              "      <td>...</td>\n",
              "      <td>0.2</td>\n",
              "      <td>0.4</td>\n",
              "      <td>0</td>\n",
              "      <td>0.2</td>\n",
              "      <td>0.0</td>\n",
              "      <td>2.0</td>\n",
              "      <td>1.548</td>\n",
              "      <td>0.4</td>\n",
              "      <td>0.5</td>\n",
              "      <td>0.3096</td>\n",
              "    </tr>\n",
              "    <tr>\n",
              "      <th>3</th>\n",
              "      <td>3.89</td>\n",
              "      <td>6</td>\n",
              "      <td>0.00</td>\n",
              "      <td>0.2</td>\n",
              "      <td>0.000</td>\n",
              "      <td>10.80</td>\n",
              "      <td>0.6</td>\n",
              "      <td>6.480</td>\n",
              "      <td>10.80</td>\n",
              "      <td>6.0</td>\n",
              "      <td>...</td>\n",
              "      <td>0.2</td>\n",
              "      <td>0.4</td>\n",
              "      <td>0</td>\n",
              "      <td>0.2</td>\n",
              "      <td>0.0</td>\n",
              "      <td>4.4</td>\n",
              "      <td>17.530</td>\n",
              "      <td>0.4</td>\n",
              "      <td>0.5</td>\n",
              "      <td>3506.0000</td>\n",
              "    </tr>\n",
              "    <tr>\n",
              "      <th>4</th>\n",
              "      <td>3.89</td>\n",
              "      <td>6</td>\n",
              "      <td>0.00</td>\n",
              "      <td>0.2</td>\n",
              "      <td>0.000</td>\n",
              "      <td>0.08</td>\n",
              "      <td>0.2</td>\n",
              "      <td>0.016</td>\n",
              "      <td>0.08</td>\n",
              "      <td>5.0</td>\n",
              "      <td>...</td>\n",
              "      <td>0.2</td>\n",
              "      <td>0.4</td>\n",
              "      <td>0</td>\n",
              "      <td>0.2</td>\n",
              "      <td>0.0</td>\n",
              "      <td>2.0</td>\n",
              "      <td>1.416</td>\n",
              "      <td>0.4</td>\n",
              "      <td>0.5</td>\n",
              "      <td>0.2832</td>\n",
              "    </tr>\n",
              "  </tbody>\n",
              "</table>\n",
              "<p>5 rows × 26 columns</p>\n",
              "</div>\n",
              "      <button class=\"colab-df-convert\" onclick=\"convertToInteractive('df-852c0872-747f-4583-ac1a-a68f36e62422')\"\n",
              "              title=\"Convert this dataframe to an interactive table.\"\n",
              "              style=\"display:none;\">\n",
              "        \n",
              "  <svg xmlns=\"http://www.w3.org/2000/svg\" height=\"24px\"viewBox=\"0 0 24 24\"\n",
              "       width=\"24px\">\n",
              "    <path d=\"M0 0h24v24H0V0z\" fill=\"none\"/>\n",
              "    <path d=\"M18.56 5.44l.94 2.06.94-2.06 2.06-.94-2.06-.94-.94-2.06-.94 2.06-2.06.94zm-11 1L8.5 8.5l.94-2.06 2.06-.94-2.06-.94L8.5 2.5l-.94 2.06-2.06.94zm10 10l.94 2.06.94-2.06 2.06-.94-2.06-.94-.94-2.06-.94 2.06-2.06.94z\"/><path d=\"M17.41 7.96l-1.37-1.37c-.4-.4-.92-.59-1.43-.59-.52 0-1.04.2-1.43.59L10.3 9.45l-7.72 7.72c-.78.78-.78 2.05 0 2.83L4 21.41c.39.39.9.59 1.41.59.51 0 1.02-.2 1.41-.59l7.78-7.78 2.81-2.81c.8-.78.8-2.07 0-2.86zM5.41 20L4 18.59l7.72-7.72 1.47 1.35L5.41 20z\"/>\n",
              "  </svg>\n",
              "      </button>\n",
              "      \n",
              "  <style>\n",
              "    .colab-df-container {\n",
              "      display:flex;\n",
              "      flex-wrap:wrap;\n",
              "      gap: 12px;\n",
              "    }\n",
              "\n",
              "    .colab-df-convert {\n",
              "      background-color: #E8F0FE;\n",
              "      border: none;\n",
              "      border-radius: 50%;\n",
              "      cursor: pointer;\n",
              "      display: none;\n",
              "      fill: #1967D2;\n",
              "      height: 32px;\n",
              "      padding: 0 0 0 0;\n",
              "      width: 32px;\n",
              "    }\n",
              "\n",
              "    .colab-df-convert:hover {\n",
              "      background-color: #E2EBFA;\n",
              "      box-shadow: 0px 1px 2px rgba(60, 64, 67, 0.3), 0px 1px 3px 1px rgba(60, 64, 67, 0.15);\n",
              "      fill: #174EA6;\n",
              "    }\n",
              "\n",
              "    [theme=dark] .colab-df-convert {\n",
              "      background-color: #3B4455;\n",
              "      fill: #D2E3FC;\n",
              "    }\n",
              "\n",
              "    [theme=dark] .colab-df-convert:hover {\n",
              "      background-color: #434B5C;\n",
              "      box-shadow: 0px 1px 3px 1px rgba(0, 0, 0, 0.15);\n",
              "      filter: drop-shadow(0px 1px 2px rgba(0, 0, 0, 0.3));\n",
              "      fill: #FFFFFF;\n",
              "    }\n",
              "  </style>\n",
              "\n",
              "      <script>\n",
              "        const buttonEl =\n",
              "          document.querySelector('#df-852c0872-747f-4583-ac1a-a68f36e62422 button.colab-df-convert');\n",
              "        buttonEl.style.display =\n",
              "          google.colab.kernel.accessAllowed ? 'block' : 'none';\n",
              "\n",
              "        async function convertToInteractive(key) {\n",
              "          const element = document.querySelector('#df-852c0872-747f-4583-ac1a-a68f36e62422');\n",
              "          const dataTable =\n",
              "            await google.colab.kernel.invokeFunction('convertToInteractive',\n",
              "                                                     [key], {});\n",
              "          if (!dataTable) return;\n",
              "\n",
              "          const docLinkHtml = 'Like what you see? Visit the ' +\n",
              "            '<a target=\"_blank\" href=https://colab.research.google.com/notebooks/data_table.ipynb>data table notebook</a>'\n",
              "            + ' to learn more about interactive tables.';\n",
              "          element.innerHTML = '';\n",
              "          dataTable['output_type'] = 'display_data';\n",
              "          await google.colab.output.renderOutput(dataTable, element);\n",
              "          const docLink = document.createElement('div');\n",
              "          docLink.innerHTML = docLinkHtml;\n",
              "          element.appendChild(docLink);\n",
              "        }\n",
              "      </script>\n",
              "    </div>\n",
              "  </div>\n",
              "  "
            ]
          },
          "metadata": {},
          "execution_count": 121
        }
      ]
    },
    {
      "cell_type": "code",
      "source": [
        "data0.columns"
      ],
      "metadata": {
        "colab": {
          "base_uri": "https://localhost:8080/"
        },
        "id": "FAyUOpPuBkBd",
        "outputId": "eac37469-a22d-4b77-f7d4-a11bbde98fc1"
      },
      "execution_count": 122,
      "outputs": [
        {
          "output_type": "execute_result",
          "data": {
            "text/plain": [
              "Index(['Sector_score', 'LOCATION_ID', 'PARA_A', 'Score_A', 'Risk_A', 'PARA_B',\n",
              "       'Score_B', 'Risk_B', 'TOTAL', 'numbers', 'Score_B.1', 'Risk_C',\n",
              "       'Money_Value', 'Score_MV', 'Risk_D', 'District_Loss', 'PROB', 'RiSk_E',\n",
              "       'History', 'Prob', 'Risk_F', 'Score', 'Inherent_Risk', 'CONTROL_RISK',\n",
              "       'Detection_Risk', 'Audit_Risk'],\n",
              "      dtype='object')"
            ]
          },
          "metadata": {},
          "execution_count": 122
        }
      ]
    },
    {
      "cell_type": "code",
      "source": [
        "from sklearn.decomposition import PCA\n",
        "from sklearn.preprocessing import StandardScaler\n",
        "from sklearn.model_selection import train_test_split\n",
        "import pandas as pd\n",
        "from sklearn.linear_model import LogisticRegression\n",
        "from sklearn.metrics import accuracy_score\n",
        "import matplotlib.pyplot as plt\n",
        "import warnings\n",
        "warnings.filterwarnings('ignore')"
      ],
      "metadata": {
        "id": "fhXpUzmI5qQb"
      },
      "execution_count": 123,
      "outputs": []
    },
    {
      "cell_type": "code",
      "source": [
        "data[\"Risk\"].value_counts()"
      ],
      "metadata": {
        "colab": {
          "base_uri": "https://localhost:8080/"
        },
        "id": "3Dp9fE2B9Wr7",
        "outputId": "9f00fd8b-aab2-4d05-f572-c688f0ec2682"
      },
      "execution_count": 124,
      "outputs": [
        {
          "output_type": "execute_result",
          "data": {
            "text/plain": [
              "0    470\n",
              "1    305\n",
              "Name: Risk, dtype: int64"
            ]
          },
          "metadata": {},
          "execution_count": 124
        }
      ]
    },
    {
      "cell_type": "markdown",
      "source": [
        "Conforme a la información del autor, se identificaron 305 empresas en riesgo de ser fraudulentas y 470 empresas sin este riesgo."
      ],
      "metadata": {
        "id": "0hPowfEPllLk"
      }
    },
    {
      "cell_type": "markdown",
      "source": [
        "### Normalización del conjunto de datos"
      ],
      "metadata": {
        "id": "0N-_gBlc_ZKk"
      }
    },
    {
      "cell_type": "markdown",
      "source": [
        "Con el fin de tener una misma medida de los datos, se procedió a realizar la normalización de los datos."
      ],
      "metadata": {
        "id": "u9qHrsnNmYaC"
      }
    },
    {
      "cell_type": "code",
      "source": [
        "df_st =  StandardScaler().fit_transform(data0)  \n",
        "pd.DataFrame(df_st, columns=data0.columns).head()"
      ],
      "metadata": {
        "colab": {
          "base_uri": "https://localhost:8080/",
          "height": 300
        },
        "id": "_6Xn9dz5_WOC",
        "outputId": "1ec4150a-556c-47e6-9441-75cb96f4c528"
      },
      "execution_count": 125,
      "outputs": [
        {
          "output_type": "execute_result",
          "data": {
            "text/plain": [
              "   Sector_score  LOCATION_ID    PARA_A   Score_A    Risk_A    PARA_B  \\\n",
              "0     -0.669071     0.824509  0.304129  1.428500  0.335827 -0.166006   \n",
              "1     -0.669071    -0.897575 -0.432005 -0.870747 -0.393216 -0.119482   \n",
              "2     -0.669071    -0.897575 -0.342190 -0.870747 -0.363566 -0.211331   \n",
              "3     -0.669071    -0.897575 -0.432005 -0.870747 -0.393216 -0.000278   \n",
              "4     -0.669071    -0.897575 -0.432005 -0.870747 -0.393216 -0.214326   \n",
              "\n",
              "    Score_B    Risk_B     TOTAL   numbers  ...      PROB    RiSk_E   History  \\\n",
              "0 -0.667374 -0.194273 -0.128012 -0.256174  ... -0.165129 -0.410727 -0.196822   \n",
              "1 -0.667374 -0.178777 -0.164068 -0.256174  ... -0.165129 -0.410727 -0.196822   \n",
              "2 -0.667374 -0.209370 -0.243781 -0.256174  ... -0.165129 -0.410727 -0.196822   \n",
              "3  1.688957  0.004583 -0.047714  3.525439  ... -0.165129 -0.410727 -0.196822   \n",
              "4 -0.667374 -0.210368 -0.256644 -0.256174  ... -0.165129 -0.410727 -0.196822   \n",
              "\n",
              "       Prob    Risk_F     Score  Inherent_Risk  CONTROL_RISK  Detection_Risk  \\\n",
              "0 -0.246737 -0.175514 -0.353484      -0.188763      -0.38895             0.0   \n",
              "1 -0.246737 -0.175514 -0.819385      -0.295260      -0.38895             0.0   \n",
              "2 -0.246737 -0.175514 -0.819385      -0.313056      -0.38895             0.0   \n",
              "3 -0.246737 -0.175514  1.976022      -0.030327      -0.38895             0.0   \n",
              "4 -0.246737 -0.175514 -0.819385      -0.315392      -0.38895             0.0   \n",
              "\n",
              "   Audit_Risk  \n",
              "0   -0.120611  \n",
              "1   -0.164664  \n",
              "2   -0.164664  \n",
              "3   -0.155658  \n",
              "4   -0.164664  \n",
              "\n",
              "[5 rows x 26 columns]"
            ],
            "text/html": [
              "\n",
              "  <div id=\"df-3c481670-1e97-4a46-b0e4-95afc4ae12c6\">\n",
              "    <div class=\"colab-df-container\">\n",
              "      <div>\n",
              "<style scoped>\n",
              "    .dataframe tbody tr th:only-of-type {\n",
              "        vertical-align: middle;\n",
              "    }\n",
              "\n",
              "    .dataframe tbody tr th {\n",
              "        vertical-align: top;\n",
              "    }\n",
              "\n",
              "    .dataframe thead th {\n",
              "        text-align: right;\n",
              "    }\n",
              "</style>\n",
              "<table border=\"1\" class=\"dataframe\">\n",
              "  <thead>\n",
              "    <tr style=\"text-align: right;\">\n",
              "      <th></th>\n",
              "      <th>Sector_score</th>\n",
              "      <th>LOCATION_ID</th>\n",
              "      <th>PARA_A</th>\n",
              "      <th>Score_A</th>\n",
              "      <th>Risk_A</th>\n",
              "      <th>PARA_B</th>\n",
              "      <th>Score_B</th>\n",
              "      <th>Risk_B</th>\n",
              "      <th>TOTAL</th>\n",
              "      <th>numbers</th>\n",
              "      <th>...</th>\n",
              "      <th>PROB</th>\n",
              "      <th>RiSk_E</th>\n",
              "      <th>History</th>\n",
              "      <th>Prob</th>\n",
              "      <th>Risk_F</th>\n",
              "      <th>Score</th>\n",
              "      <th>Inherent_Risk</th>\n",
              "      <th>CONTROL_RISK</th>\n",
              "      <th>Detection_Risk</th>\n",
              "      <th>Audit_Risk</th>\n",
              "    </tr>\n",
              "  </thead>\n",
              "  <tbody>\n",
              "    <tr>\n",
              "      <th>0</th>\n",
              "      <td>-0.669071</td>\n",
              "      <td>0.824509</td>\n",
              "      <td>0.304129</td>\n",
              "      <td>1.428500</td>\n",
              "      <td>0.335827</td>\n",
              "      <td>-0.166006</td>\n",
              "      <td>-0.667374</td>\n",
              "      <td>-0.194273</td>\n",
              "      <td>-0.128012</td>\n",
              "      <td>-0.256174</td>\n",
              "      <td>...</td>\n",
              "      <td>-0.165129</td>\n",
              "      <td>-0.410727</td>\n",
              "      <td>-0.196822</td>\n",
              "      <td>-0.246737</td>\n",
              "      <td>-0.175514</td>\n",
              "      <td>-0.353484</td>\n",
              "      <td>-0.188763</td>\n",
              "      <td>-0.38895</td>\n",
              "      <td>0.0</td>\n",
              "      <td>-0.120611</td>\n",
              "    </tr>\n",
              "    <tr>\n",
              "      <th>1</th>\n",
              "      <td>-0.669071</td>\n",
              "      <td>-0.897575</td>\n",
              "      <td>-0.432005</td>\n",
              "      <td>-0.870747</td>\n",
              "      <td>-0.393216</td>\n",
              "      <td>-0.119482</td>\n",
              "      <td>-0.667374</td>\n",
              "      <td>-0.178777</td>\n",
              "      <td>-0.164068</td>\n",
              "      <td>-0.256174</td>\n",
              "      <td>...</td>\n",
              "      <td>-0.165129</td>\n",
              "      <td>-0.410727</td>\n",
              "      <td>-0.196822</td>\n",
              "      <td>-0.246737</td>\n",
              "      <td>-0.175514</td>\n",
              "      <td>-0.819385</td>\n",
              "      <td>-0.295260</td>\n",
              "      <td>-0.38895</td>\n",
              "      <td>0.0</td>\n",
              "      <td>-0.164664</td>\n",
              "    </tr>\n",
              "    <tr>\n",
              "      <th>2</th>\n",
              "      <td>-0.669071</td>\n",
              "      <td>-0.897575</td>\n",
              "      <td>-0.342190</td>\n",
              "      <td>-0.870747</td>\n",
              "      <td>-0.363566</td>\n",
              "      <td>-0.211331</td>\n",
              "      <td>-0.667374</td>\n",
              "      <td>-0.209370</td>\n",
              "      <td>-0.243781</td>\n",
              "      <td>-0.256174</td>\n",
              "      <td>...</td>\n",
              "      <td>-0.165129</td>\n",
              "      <td>-0.410727</td>\n",
              "      <td>-0.196822</td>\n",
              "      <td>-0.246737</td>\n",
              "      <td>-0.175514</td>\n",
              "      <td>-0.819385</td>\n",
              "      <td>-0.313056</td>\n",
              "      <td>-0.38895</td>\n",
              "      <td>0.0</td>\n",
              "      <td>-0.164664</td>\n",
              "    </tr>\n",
              "    <tr>\n",
              "      <th>3</th>\n",
              "      <td>-0.669071</td>\n",
              "      <td>-0.897575</td>\n",
              "      <td>-0.432005</td>\n",
              "      <td>-0.870747</td>\n",
              "      <td>-0.393216</td>\n",
              "      <td>-0.000278</td>\n",
              "      <td>1.688957</td>\n",
              "      <td>0.004583</td>\n",
              "      <td>-0.047714</td>\n",
              "      <td>3.525439</td>\n",
              "      <td>...</td>\n",
              "      <td>-0.165129</td>\n",
              "      <td>-0.410727</td>\n",
              "      <td>-0.196822</td>\n",
              "      <td>-0.246737</td>\n",
              "      <td>-0.175514</td>\n",
              "      <td>1.976022</td>\n",
              "      <td>-0.030327</td>\n",
              "      <td>-0.38895</td>\n",
              "      <td>0.0</td>\n",
              "      <td>-0.155658</td>\n",
              "    </tr>\n",
              "    <tr>\n",
              "      <th>4</th>\n",
              "      <td>-0.669071</td>\n",
              "      <td>-0.897575</td>\n",
              "      <td>-0.432005</td>\n",
              "      <td>-0.870747</td>\n",
              "      <td>-0.393216</td>\n",
              "      <td>-0.214326</td>\n",
              "      <td>-0.667374</td>\n",
              "      <td>-0.210368</td>\n",
              "      <td>-0.256644</td>\n",
              "      <td>-0.256174</td>\n",
              "      <td>...</td>\n",
              "      <td>-0.165129</td>\n",
              "      <td>-0.410727</td>\n",
              "      <td>-0.196822</td>\n",
              "      <td>-0.246737</td>\n",
              "      <td>-0.175514</td>\n",
              "      <td>-0.819385</td>\n",
              "      <td>-0.315392</td>\n",
              "      <td>-0.38895</td>\n",
              "      <td>0.0</td>\n",
              "      <td>-0.164664</td>\n",
              "    </tr>\n",
              "  </tbody>\n",
              "</table>\n",
              "<p>5 rows × 26 columns</p>\n",
              "</div>\n",
              "      <button class=\"colab-df-convert\" onclick=\"convertToInteractive('df-3c481670-1e97-4a46-b0e4-95afc4ae12c6')\"\n",
              "              title=\"Convert this dataframe to an interactive table.\"\n",
              "              style=\"display:none;\">\n",
              "        \n",
              "  <svg xmlns=\"http://www.w3.org/2000/svg\" height=\"24px\"viewBox=\"0 0 24 24\"\n",
              "       width=\"24px\">\n",
              "    <path d=\"M0 0h24v24H0V0z\" fill=\"none\"/>\n",
              "    <path d=\"M18.56 5.44l.94 2.06.94-2.06 2.06-.94-2.06-.94-.94-2.06-.94 2.06-2.06.94zm-11 1L8.5 8.5l.94-2.06 2.06-.94-2.06-.94L8.5 2.5l-.94 2.06-2.06.94zm10 10l.94 2.06.94-2.06 2.06-.94-2.06-.94-.94-2.06-.94 2.06-2.06.94z\"/><path d=\"M17.41 7.96l-1.37-1.37c-.4-.4-.92-.59-1.43-.59-.52 0-1.04.2-1.43.59L10.3 9.45l-7.72 7.72c-.78.78-.78 2.05 0 2.83L4 21.41c.39.39.9.59 1.41.59.51 0 1.02-.2 1.41-.59l7.78-7.78 2.81-2.81c.8-.78.8-2.07 0-2.86zM5.41 20L4 18.59l7.72-7.72 1.47 1.35L5.41 20z\"/>\n",
              "  </svg>\n",
              "      </button>\n",
              "      \n",
              "  <style>\n",
              "    .colab-df-container {\n",
              "      display:flex;\n",
              "      flex-wrap:wrap;\n",
              "      gap: 12px;\n",
              "    }\n",
              "\n",
              "    .colab-df-convert {\n",
              "      background-color: #E8F0FE;\n",
              "      border: none;\n",
              "      border-radius: 50%;\n",
              "      cursor: pointer;\n",
              "      display: none;\n",
              "      fill: #1967D2;\n",
              "      height: 32px;\n",
              "      padding: 0 0 0 0;\n",
              "      width: 32px;\n",
              "    }\n",
              "\n",
              "    .colab-df-convert:hover {\n",
              "      background-color: #E2EBFA;\n",
              "      box-shadow: 0px 1px 2px rgba(60, 64, 67, 0.3), 0px 1px 3px 1px rgba(60, 64, 67, 0.15);\n",
              "      fill: #174EA6;\n",
              "    }\n",
              "\n",
              "    [theme=dark] .colab-df-convert {\n",
              "      background-color: #3B4455;\n",
              "      fill: #D2E3FC;\n",
              "    }\n",
              "\n",
              "    [theme=dark] .colab-df-convert:hover {\n",
              "      background-color: #434B5C;\n",
              "      box-shadow: 0px 1px 3px 1px rgba(0, 0, 0, 0.15);\n",
              "      filter: drop-shadow(0px 1px 2px rgba(0, 0, 0, 0.3));\n",
              "      fill: #FFFFFF;\n",
              "    }\n",
              "  </style>\n",
              "\n",
              "      <script>\n",
              "        const buttonEl =\n",
              "          document.querySelector('#df-3c481670-1e97-4a46-b0e4-95afc4ae12c6 button.colab-df-convert');\n",
              "        buttonEl.style.display =\n",
              "          google.colab.kernel.accessAllowed ? 'block' : 'none';\n",
              "\n",
              "        async function convertToInteractive(key) {\n",
              "          const element = document.querySelector('#df-3c481670-1e97-4a46-b0e4-95afc4ae12c6');\n",
              "          const dataTable =\n",
              "            await google.colab.kernel.invokeFunction('convertToInteractive',\n",
              "                                                     [key], {});\n",
              "          if (!dataTable) return;\n",
              "\n",
              "          const docLinkHtml = 'Like what you see? Visit the ' +\n",
              "            '<a target=\"_blank\" href=https://colab.research.google.com/notebooks/data_table.ipynb>data table notebook</a>'\n",
              "            + ' to learn more about interactive tables.';\n",
              "          element.innerHTML = '';\n",
              "          dataTable['output_type'] = 'display_data';\n",
              "          await google.colab.output.renderOutput(dataTable, element);\n",
              "          const docLink = document.createElement('div');\n",
              "          docLink.innerHTML = docLinkHtml;\n",
              "          element.appendChild(docLink);\n",
              "        }\n",
              "      </script>\n",
              "    </div>\n",
              "  </div>\n",
              "  "
            ]
          },
          "metadata": {},
          "execution_count": 125
        }
      ]
    },
    {
      "cell_type": "markdown",
      "source": [
        "### Perform PCA using scikit-learn!"
      ],
      "metadata": {
        "id": "O5XMELfDFRwA"
      }
    },
    {
      "cell_type": "code",
      "source": [
        "pca_out = PCA(n_components=6).fit(df_st)\n",
        "\n",
        "pca_out.explained_variance_ratio_"
      ],
      "metadata": {
        "colab": {
          "base_uri": "https://localhost:8080/"
        },
        "id": "tRvUfsumFS8M",
        "outputId": "5ddb99a8-bdf4-4210-ab3c-6c327222e89a"
      },
      "execution_count": 126,
      "outputs": [
        {
          "output_type": "execute_result",
          "data": {
            "text/plain": [
              "array([0.31496442, 0.12694332, 0.11282909, 0.09391416, 0.0811372 ,\n",
              "       0.07370042])"
            ]
          },
          "metadata": {},
          "execution_count": 126
        }
      ]
    },
    {
      "cell_type": "code",
      "source": [
        "np.cumsum(pca_out.explained_variance_ratio_)"
      ],
      "metadata": {
        "colab": {
          "base_uri": "https://localhost:8080/"
        },
        "id": "gjIm6lApE9ah",
        "outputId": "d157903b-13f0-4d1a-82bc-31c892034760"
      },
      "execution_count": 127,
      "outputs": [
        {
          "output_type": "execute_result",
          "data": {
            "text/plain": [
              "array([0.31496442, 0.44190774, 0.55473682, 0.64865098, 0.72978818,\n",
              "       0.8034886 ])"
            ]
          },
          "metadata": {},
          "execution_count": 127
        }
      ]
    },
    {
      "cell_type": "code",
      "source": [
        "loadings = pca_out.components_\n",
        "num_pc = pca_out.n_features_\n",
        "pc_list = [\"PC\"+str(i) for i in list(range(1, num_pc+1))]\n",
        "loadings_df = pd.DataFrame.from_dict(dict(zip(pc_list, loadings)))\n",
        "loadings_df['variable'] = data0.columns.values\n",
        "loadings_df = loadings_df.set_index('variable')\n",
        "loadings_df"
      ],
      "metadata": {
        "colab": {
          "base_uri": "https://localhost:8080/",
          "height": 896
        },
        "id": "p1KqGNmoIUUP",
        "outputId": "75557dd2-a9dc-458a-9c66-4b3e5ec3cdf1"
      },
      "execution_count": 129,
      "outputs": [
        {
          "output_type": "execute_result",
          "data": {
            "text/plain": [
              "                     PC1       PC2       PC3       PC4       PC5       PC6\n",
              "variable                                                                  \n",
              "Sector_score   -0.119191  0.009362  0.123421 -0.022243 -0.014246  0.251262\n",
              "LOCATION_ID    -0.004140 -0.077038 -0.040214 -0.113676  0.082555 -0.222622\n",
              "PARA_A          0.187463 -0.192591 -0.152266  0.315230  0.060233 -0.139007\n",
              "Score_A         0.206270 -0.083651 -0.169747  0.029330  0.105895 -0.362659\n",
              "Risk_A          0.189013 -0.192247 -0.152446  0.313379  0.062053 -0.142050\n",
              "PARA_B          0.240451 -0.087182  0.392435 -0.147145 -0.079131 -0.081784\n",
              "Score_B         0.219163 -0.092407 -0.118843 -0.094571  0.155442 -0.315652\n",
              "Risk_B          0.240283 -0.087303  0.392700 -0.147008 -0.079591 -0.081450\n",
              "TOTAL           0.254699 -0.106353  0.367227 -0.109306 -0.070196 -0.097162\n",
              "numbers         0.198513  0.055089 -0.247375 -0.353483 -0.133593  0.198621\n",
              "Score_B.1       0.215362  0.057526 -0.251026 -0.346070 -0.131889  0.197398\n",
              "Risk_C          0.212799  0.058049 -0.256680 -0.353866 -0.136984  0.205831\n",
              "Money_Value     0.178691 -0.262595 -0.119328  0.266582  0.002752  0.365263\n",
              "Score_MV        0.244196 -0.063384 -0.175323 -0.107144  0.054080 -0.065390\n",
              "Risk_D          0.178329 -0.262347 -0.118964  0.266510  0.001952  0.367116\n",
              "District_Loss   0.096640  0.232075 -0.042478  0.210942 -0.491706 -0.089361\n",
              "PROB            0.061572  0.140094 -0.034413  0.121668 -0.117739 -0.122398\n",
              "RiSk_E          0.107541  0.272221 -0.053952  0.233447 -0.492869 -0.113510\n",
              "History         0.183528  0.355749  0.050829  0.082867  0.359412  0.127878\n",
              "Prob            0.212325  0.284026  0.072194  0.056485  0.322620  0.050727\n",
              "Risk_F          0.176288  0.360233  0.056428  0.081413  0.346561  0.142577\n",
              "Score           0.290865 -0.010968 -0.186354 -0.094885  0.049078 -0.250056\n",
              "Inherent_Risk   0.267209 -0.243014  0.124824  0.132442 -0.048507  0.227590\n",
              "CONTROL_RISK    0.191505  0.425589  0.003591  0.208449 -0.083416  0.023968\n",
              "Detection_Risk  0.000000 -0.000000  0.000000  0.000000  0.000000  0.000000\n",
              "Audit_Risk      0.249509 -0.038177  0.366455  0.002133 -0.109628  0.103105"
            ],
            "text/html": [
              "\n",
              "  <div id=\"df-10f4bc82-7e2e-42f3-a972-4b8da1c74f40\">\n",
              "    <div class=\"colab-df-container\">\n",
              "      <div>\n",
              "<style scoped>\n",
              "    .dataframe tbody tr th:only-of-type {\n",
              "        vertical-align: middle;\n",
              "    }\n",
              "\n",
              "    .dataframe tbody tr th {\n",
              "        vertical-align: top;\n",
              "    }\n",
              "\n",
              "    .dataframe thead th {\n",
              "        text-align: right;\n",
              "    }\n",
              "</style>\n",
              "<table border=\"1\" class=\"dataframe\">\n",
              "  <thead>\n",
              "    <tr style=\"text-align: right;\">\n",
              "      <th></th>\n",
              "      <th>PC1</th>\n",
              "      <th>PC2</th>\n",
              "      <th>PC3</th>\n",
              "      <th>PC4</th>\n",
              "      <th>PC5</th>\n",
              "      <th>PC6</th>\n",
              "    </tr>\n",
              "    <tr>\n",
              "      <th>variable</th>\n",
              "      <th></th>\n",
              "      <th></th>\n",
              "      <th></th>\n",
              "      <th></th>\n",
              "      <th></th>\n",
              "      <th></th>\n",
              "    </tr>\n",
              "  </thead>\n",
              "  <tbody>\n",
              "    <tr>\n",
              "      <th>Sector_score</th>\n",
              "      <td>-0.119191</td>\n",
              "      <td>0.009362</td>\n",
              "      <td>0.123421</td>\n",
              "      <td>-0.022243</td>\n",
              "      <td>-0.014246</td>\n",
              "      <td>0.251262</td>\n",
              "    </tr>\n",
              "    <tr>\n",
              "      <th>LOCATION_ID</th>\n",
              "      <td>-0.004140</td>\n",
              "      <td>-0.077038</td>\n",
              "      <td>-0.040214</td>\n",
              "      <td>-0.113676</td>\n",
              "      <td>0.082555</td>\n",
              "      <td>-0.222622</td>\n",
              "    </tr>\n",
              "    <tr>\n",
              "      <th>PARA_A</th>\n",
              "      <td>0.187463</td>\n",
              "      <td>-0.192591</td>\n",
              "      <td>-0.152266</td>\n",
              "      <td>0.315230</td>\n",
              "      <td>0.060233</td>\n",
              "      <td>-0.139007</td>\n",
              "    </tr>\n",
              "    <tr>\n",
              "      <th>Score_A</th>\n",
              "      <td>0.206270</td>\n",
              "      <td>-0.083651</td>\n",
              "      <td>-0.169747</td>\n",
              "      <td>0.029330</td>\n",
              "      <td>0.105895</td>\n",
              "      <td>-0.362659</td>\n",
              "    </tr>\n",
              "    <tr>\n",
              "      <th>Risk_A</th>\n",
              "      <td>0.189013</td>\n",
              "      <td>-0.192247</td>\n",
              "      <td>-0.152446</td>\n",
              "      <td>0.313379</td>\n",
              "      <td>0.062053</td>\n",
              "      <td>-0.142050</td>\n",
              "    </tr>\n",
              "    <tr>\n",
              "      <th>PARA_B</th>\n",
              "      <td>0.240451</td>\n",
              "      <td>-0.087182</td>\n",
              "      <td>0.392435</td>\n",
              "      <td>-0.147145</td>\n",
              "      <td>-0.079131</td>\n",
              "      <td>-0.081784</td>\n",
              "    </tr>\n",
              "    <tr>\n",
              "      <th>Score_B</th>\n",
              "      <td>0.219163</td>\n",
              "      <td>-0.092407</td>\n",
              "      <td>-0.118843</td>\n",
              "      <td>-0.094571</td>\n",
              "      <td>0.155442</td>\n",
              "      <td>-0.315652</td>\n",
              "    </tr>\n",
              "    <tr>\n",
              "      <th>Risk_B</th>\n",
              "      <td>0.240283</td>\n",
              "      <td>-0.087303</td>\n",
              "      <td>0.392700</td>\n",
              "      <td>-0.147008</td>\n",
              "      <td>-0.079591</td>\n",
              "      <td>-0.081450</td>\n",
              "    </tr>\n",
              "    <tr>\n",
              "      <th>TOTAL</th>\n",
              "      <td>0.254699</td>\n",
              "      <td>-0.106353</td>\n",
              "      <td>0.367227</td>\n",
              "      <td>-0.109306</td>\n",
              "      <td>-0.070196</td>\n",
              "      <td>-0.097162</td>\n",
              "    </tr>\n",
              "    <tr>\n",
              "      <th>numbers</th>\n",
              "      <td>0.198513</td>\n",
              "      <td>0.055089</td>\n",
              "      <td>-0.247375</td>\n",
              "      <td>-0.353483</td>\n",
              "      <td>-0.133593</td>\n",
              "      <td>0.198621</td>\n",
              "    </tr>\n",
              "    <tr>\n",
              "      <th>Score_B.1</th>\n",
              "      <td>0.215362</td>\n",
              "      <td>0.057526</td>\n",
              "      <td>-0.251026</td>\n",
              "      <td>-0.346070</td>\n",
              "      <td>-0.131889</td>\n",
              "      <td>0.197398</td>\n",
              "    </tr>\n",
              "    <tr>\n",
              "      <th>Risk_C</th>\n",
              "      <td>0.212799</td>\n",
              "      <td>0.058049</td>\n",
              "      <td>-0.256680</td>\n",
              "      <td>-0.353866</td>\n",
              "      <td>-0.136984</td>\n",
              "      <td>0.205831</td>\n",
              "    </tr>\n",
              "    <tr>\n",
              "      <th>Money_Value</th>\n",
              "      <td>0.178691</td>\n",
              "      <td>-0.262595</td>\n",
              "      <td>-0.119328</td>\n",
              "      <td>0.266582</td>\n",
              "      <td>0.002752</td>\n",
              "      <td>0.365263</td>\n",
              "    </tr>\n",
              "    <tr>\n",
              "      <th>Score_MV</th>\n",
              "      <td>0.244196</td>\n",
              "      <td>-0.063384</td>\n",
              "      <td>-0.175323</td>\n",
              "      <td>-0.107144</td>\n",
              "      <td>0.054080</td>\n",
              "      <td>-0.065390</td>\n",
              "    </tr>\n",
              "    <tr>\n",
              "      <th>Risk_D</th>\n",
              "      <td>0.178329</td>\n",
              "      <td>-0.262347</td>\n",
              "      <td>-0.118964</td>\n",
              "      <td>0.266510</td>\n",
              "      <td>0.001952</td>\n",
              "      <td>0.367116</td>\n",
              "    </tr>\n",
              "    <tr>\n",
              "      <th>District_Loss</th>\n",
              "      <td>0.096640</td>\n",
              "      <td>0.232075</td>\n",
              "      <td>-0.042478</td>\n",
              "      <td>0.210942</td>\n",
              "      <td>-0.491706</td>\n",
              "      <td>-0.089361</td>\n",
              "    </tr>\n",
              "    <tr>\n",
              "      <th>PROB</th>\n",
              "      <td>0.061572</td>\n",
              "      <td>0.140094</td>\n",
              "      <td>-0.034413</td>\n",
              "      <td>0.121668</td>\n",
              "      <td>-0.117739</td>\n",
              "      <td>-0.122398</td>\n",
              "    </tr>\n",
              "    <tr>\n",
              "      <th>RiSk_E</th>\n",
              "      <td>0.107541</td>\n",
              "      <td>0.272221</td>\n",
              "      <td>-0.053952</td>\n",
              "      <td>0.233447</td>\n",
              "      <td>-0.492869</td>\n",
              "      <td>-0.113510</td>\n",
              "    </tr>\n",
              "    <tr>\n",
              "      <th>History</th>\n",
              "      <td>0.183528</td>\n",
              "      <td>0.355749</td>\n",
              "      <td>0.050829</td>\n",
              "      <td>0.082867</td>\n",
              "      <td>0.359412</td>\n",
              "      <td>0.127878</td>\n",
              "    </tr>\n",
              "    <tr>\n",
              "      <th>Prob</th>\n",
              "      <td>0.212325</td>\n",
              "      <td>0.284026</td>\n",
              "      <td>0.072194</td>\n",
              "      <td>0.056485</td>\n",
              "      <td>0.322620</td>\n",
              "      <td>0.050727</td>\n",
              "    </tr>\n",
              "    <tr>\n",
              "      <th>Risk_F</th>\n",
              "      <td>0.176288</td>\n",
              "      <td>0.360233</td>\n",
              "      <td>0.056428</td>\n",
              "      <td>0.081413</td>\n",
              "      <td>0.346561</td>\n",
              "      <td>0.142577</td>\n",
              "    </tr>\n",
              "    <tr>\n",
              "      <th>Score</th>\n",
              "      <td>0.290865</td>\n",
              "      <td>-0.010968</td>\n",
              "      <td>-0.186354</td>\n",
              "      <td>-0.094885</td>\n",
              "      <td>0.049078</td>\n",
              "      <td>-0.250056</td>\n",
              "    </tr>\n",
              "    <tr>\n",
              "      <th>Inherent_Risk</th>\n",
              "      <td>0.267209</td>\n",
              "      <td>-0.243014</td>\n",
              "      <td>0.124824</td>\n",
              "      <td>0.132442</td>\n",
              "      <td>-0.048507</td>\n",
              "      <td>0.227590</td>\n",
              "    </tr>\n",
              "    <tr>\n",
              "      <th>CONTROL_RISK</th>\n",
              "      <td>0.191505</td>\n",
              "      <td>0.425589</td>\n",
              "      <td>0.003591</td>\n",
              "      <td>0.208449</td>\n",
              "      <td>-0.083416</td>\n",
              "      <td>0.023968</td>\n",
              "    </tr>\n",
              "    <tr>\n",
              "      <th>Detection_Risk</th>\n",
              "      <td>0.000000</td>\n",
              "      <td>-0.000000</td>\n",
              "      <td>0.000000</td>\n",
              "      <td>0.000000</td>\n",
              "      <td>0.000000</td>\n",
              "      <td>0.000000</td>\n",
              "    </tr>\n",
              "    <tr>\n",
              "      <th>Audit_Risk</th>\n",
              "      <td>0.249509</td>\n",
              "      <td>-0.038177</td>\n",
              "      <td>0.366455</td>\n",
              "      <td>0.002133</td>\n",
              "      <td>-0.109628</td>\n",
              "      <td>0.103105</td>\n",
              "    </tr>\n",
              "  </tbody>\n",
              "</table>\n",
              "</div>\n",
              "      <button class=\"colab-df-convert\" onclick=\"convertToInteractive('df-10f4bc82-7e2e-42f3-a972-4b8da1c74f40')\"\n",
              "              title=\"Convert this dataframe to an interactive table.\"\n",
              "              style=\"display:none;\">\n",
              "        \n",
              "  <svg xmlns=\"http://www.w3.org/2000/svg\" height=\"24px\"viewBox=\"0 0 24 24\"\n",
              "       width=\"24px\">\n",
              "    <path d=\"M0 0h24v24H0V0z\" fill=\"none\"/>\n",
              "    <path d=\"M18.56 5.44l.94 2.06.94-2.06 2.06-.94-2.06-.94-.94-2.06-.94 2.06-2.06.94zm-11 1L8.5 8.5l.94-2.06 2.06-.94-2.06-.94L8.5 2.5l-.94 2.06-2.06.94zm10 10l.94 2.06.94-2.06 2.06-.94-2.06-.94-.94-2.06-.94 2.06-2.06.94z\"/><path d=\"M17.41 7.96l-1.37-1.37c-.4-.4-.92-.59-1.43-.59-.52 0-1.04.2-1.43.59L10.3 9.45l-7.72 7.72c-.78.78-.78 2.05 0 2.83L4 21.41c.39.39.9.59 1.41.59.51 0 1.02-.2 1.41-.59l7.78-7.78 2.81-2.81c.8-.78.8-2.07 0-2.86zM5.41 20L4 18.59l7.72-7.72 1.47 1.35L5.41 20z\"/>\n",
              "  </svg>\n",
              "      </button>\n",
              "      \n",
              "  <style>\n",
              "    .colab-df-container {\n",
              "      display:flex;\n",
              "      flex-wrap:wrap;\n",
              "      gap: 12px;\n",
              "    }\n",
              "\n",
              "    .colab-df-convert {\n",
              "      background-color: #E8F0FE;\n",
              "      border: none;\n",
              "      border-radius: 50%;\n",
              "      cursor: pointer;\n",
              "      display: none;\n",
              "      fill: #1967D2;\n",
              "      height: 32px;\n",
              "      padding: 0 0 0 0;\n",
              "      width: 32px;\n",
              "    }\n",
              "\n",
              "    .colab-df-convert:hover {\n",
              "      background-color: #E2EBFA;\n",
              "      box-shadow: 0px 1px 2px rgba(60, 64, 67, 0.3), 0px 1px 3px 1px rgba(60, 64, 67, 0.15);\n",
              "      fill: #174EA6;\n",
              "    }\n",
              "\n",
              "    [theme=dark] .colab-df-convert {\n",
              "      background-color: #3B4455;\n",
              "      fill: #D2E3FC;\n",
              "    }\n",
              "\n",
              "    [theme=dark] .colab-df-convert:hover {\n",
              "      background-color: #434B5C;\n",
              "      box-shadow: 0px 1px 3px 1px rgba(0, 0, 0, 0.15);\n",
              "      filter: drop-shadow(0px 1px 2px rgba(0, 0, 0, 0.3));\n",
              "      fill: #FFFFFF;\n",
              "    }\n",
              "  </style>\n",
              "\n",
              "      <script>\n",
              "        const buttonEl =\n",
              "          document.querySelector('#df-10f4bc82-7e2e-42f3-a972-4b8da1c74f40 button.colab-df-convert');\n",
              "        buttonEl.style.display =\n",
              "          google.colab.kernel.accessAllowed ? 'block' : 'none';\n",
              "\n",
              "        async function convertToInteractive(key) {\n",
              "          const element = document.querySelector('#df-10f4bc82-7e2e-42f3-a972-4b8da1c74f40');\n",
              "          const dataTable =\n",
              "            await google.colab.kernel.invokeFunction('convertToInteractive',\n",
              "                                                     [key], {});\n",
              "          if (!dataTable) return;\n",
              "\n",
              "          const docLinkHtml = 'Like what you see? Visit the ' +\n",
              "            '<a target=\"_blank\" href=https://colab.research.google.com/notebooks/data_table.ipynb>data table notebook</a>'\n",
              "            + ' to learn more about interactive tables.';\n",
              "          element.innerHTML = '';\n",
              "          dataTable['output_type'] = 'display_data';\n",
              "          await google.colab.output.renderOutput(dataTable, element);\n",
              "          const docLink = document.createElement('div');\n",
              "          docLink.innerHTML = docLinkHtml;\n",
              "          element.appendChild(docLink);\n",
              "        }\n",
              "      </script>\n",
              "    </div>\n",
              "  </div>\n",
              "  "
            ]
          },
          "metadata": {},
          "execution_count": 129
        }
      ]
    },
    {
      "cell_type": "markdown",
      "source": [
        "## Correlation matrix plot"
      ],
      "metadata": {
        "id": "Ro6AuDfo08Pf"
      }
    },
    {
      "cell_type": "code",
      "source": [
        "import seaborn as sns\n",
        "import matplotlib.pyplot as plt\n",
        "plt.figure(figsize=(20,12))\n",
        "ax = sns.heatmap(loadings_df, annot=True, cmap='PiYG')\n",
        "plt.show()"
      ],
      "metadata": {
        "colab": {
          "base_uri": "https://localhost:8080/",
          "height": 700
        },
        "id": "h2irD-fBIp2i",
        "outputId": "0829e5fd-edf0-4c03-b699-e4b82ec6386d"
      },
      "execution_count": 130,
      "outputs": [
        {
          "output_type": "display_data",
          "data": {
            "text/plain": [
              "<Figure size 1440x864 with 2 Axes>"
            ],
            "image/png": "[encoded data removed]"
          },
          "metadata": {
            "needs_background": "light"
          }
        }
      ]
    },
    {
      "cell_type": "code",
      "source": [
        "loadings_df[(loadings_df[\"PC1\"]>0.25)|(loadings_df[\"PC1\"]<-0.25)][\"PC1\"]"
      ],
      "metadata": {
        "colab": {
          "base_uri": "https://localhost:8080/"
        },
        "id": "8LeFF9urmytv",
        "outputId": "bc63d108-2177-4ade-c8b6-ec5c8726a44f"
      },
      "execution_count": 233,
      "outputs": [
        {
          "output_type": "execute_result",
          "data": {
            "text/plain": [
              "variable\n",
              "TOTAL            0.254699\n",
              "Score            0.290865\n",
              "Inherent_Risk    0.267209\n",
              "Name: PC1, dtype: float64"
            ]
          },
          "metadata": {},
          "execution_count": 233
        }
      ]
    },
    {
      "cell_type": "code",
      "source": [
        "loadings_df[(loadings_df[\"PC2\"]>0.3)|(loadings_df[\"PC2\"]<-0.3)][\"PC2\"]"
      ],
      "metadata": {
        "colab": {
          "base_uri": "https://localhost:8080/"
        },
        "id": "5YsadCrL3Y5Z",
        "outputId": "c72c0198-42d1-4462-d349-3a9b36b4ce2f"
      },
      "execution_count": 234,
      "outputs": [
        {
          "output_type": "execute_result",
          "data": {
            "text/plain": [
              "variable\n",
              "History         0.355749\n",
              "Risk_F          0.360233\n",
              "CONTROL_RISK    0.425589\n",
              "Name: PC2, dtype: float64"
            ]
          },
          "metadata": {},
          "execution_count": 234
        }
      ]
    },
    {
      "cell_type": "code",
      "source": [
        "loadings_df[(loadings_df[\"PC3\"]>0.3)|(loadings_df[\"PC3\"]<-0.3)][\"PC3\"]"
      ],
      "metadata": {
        "colab": {
          "base_uri": "https://localhost:8080/"
        },
        "id": "8usJSw_BUzPz",
        "outputId": "943cd15c-80e4-4c6d-8c65-21d37a47f4aa"
      },
      "execution_count": 229,
      "outputs": [
        {
          "output_type": "execute_result",
          "data": {
            "text/plain": [
              "variable\n",
              "PARA_B        0.392435\n",
              "Risk_B        0.392700\n",
              "TOTAL         0.367227\n",
              "Audit_Risk    0.366455\n",
              "Name: PC3, dtype: float64"
            ]
          },
          "metadata": {},
          "execution_count": 229
        }
      ]
    },
    {
      "cell_type": "markdown",
      "source": [
        "La matriz de correlación muestra, las correlaciones postivas o negativas entre cada una las variables con las componetes principales. Según el gráfico, las variables con tonalidades verde oscuro, tienen gran correlación positiva con la componente, mientras las variables que toman tonalidades moradas oscuras se correlacionan de forma negativa. Para el caso de la primera componente (PC1) que explica el 31.5% de la variación de los datos originales, las variables PARA_B, Risk_B, TOTAL, Score_MV, Score, Inherent_Risk y Audit_Risk tienen una gran correlación positiva con esta componente. \n",
        "\n",
        "En cuanto a la componente 2 PC2, la cual explica el 12.7% de la variación de los datos, las variables que mas correlación tienen son: Risk_E, History, Prob, Risk_F y CONTROL_RISK, las cuales tambien se correlacionan de forma positiva."
      ],
      "metadata": {
        "id": "dEfCFBXa1ABH"
      }
    },
    {
      "cell_type": "code",
      "source": [
        "loadings_df.columns"
      ],
      "metadata": {
        "colab": {
          "base_uri": "https://localhost:8080/"
        },
        "id": "RTNzsIIqJDQ-",
        "outputId": "d06ea173-c43a-4e39-f6eb-4cefba4982c9"
      },
      "execution_count": 131,
      "outputs": [
        {
          "output_type": "execute_result",
          "data": {
            "text/plain": [
              "Index(['PC1', 'PC2', 'PC3', 'PC4', 'PC5', 'PC6'], dtype='object')"
            ]
          },
          "metadata": {},
          "execution_count": 131
        }
      ]
    },
    {
      "cell_type": "code",
      "source": [
        "abs(loadings_df[\"PC1\"]).mean()"
      ],
      "metadata": {
        "colab": {
          "base_uri": "https://localhost:8080/"
        },
        "id": "mQxogQSGJIAG",
        "outputId": "37ecf55e-86d6-427f-8223-c8e07327b640"
      },
      "execution_count": 132,
      "outputs": [
        {
          "output_type": "execute_result",
          "data": {
            "text/plain": [
              "0.18175174116454593"
            ]
          },
          "metadata": {},
          "execution_count": 132
        }
      ]
    },
    {
      "cell_type": "markdown",
      "source": [
        "### Gráfico Scree (prueba del codo)"
      ],
      "metadata": {
        "id": "IBLtNY9J4QsR"
      }
    },
    {
      "cell_type": "code",
      "source": [
        "pca_out.explained_variance_ratio_, pca_out.explained_variance_ratio_[:4].sum()"
      ],
      "metadata": {
        "colab": {
          "base_uri": "https://localhost:8080/"
        },
        "id": "AMGQP9OmJUdM",
        "outputId": "360c46fa-f25e-4876-fc36-bf9ae7e4ca13"
      },
      "execution_count": 133,
      "outputs": [
        {
          "output_type": "execute_result",
          "data": {
            "text/plain": [
              "(array([0.31496442, 0.12694332, 0.11282909, 0.09391416, 0.0811372 ,\n",
              "        0.07370042]), 0.6486509829301976)"
            ]
          },
          "metadata": {},
          "execution_count": 133
        }
      ]
    },
    {
      "cell_type": "code",
      "source": [
        "plt.figure(figsize=(12,5))\n",
        "plt.bar(loadings_df.columns,pca_out.explained_variance_ratio_*100, color=\"purple\", alpha=0.7)\n",
        "plt.ylabel(\"Proportion of variance (%)\")\n",
        "plt.xlabel(\"PCs\")\n",
        "plt.show()"
      ],
      "metadata": {
        "colab": {
          "base_uri": "https://localhost:8080/",
          "height": 334
        },
        "id": "6MT1AKeCJcLi",
        "outputId": "07d05482-4553-48ed-eef8-f999e6f77371"
      },
      "execution_count": 134,
      "outputs": [
        {
          "output_type": "display_data",
          "data": {
            "text/plain": [
              "<Figure size 864x360 with 1 Axes>"
            ],
            "image/png": "[encoded data removed]"
          },
          "metadata": {
            "needs_background": "light"
          }
        }
      ]
    },
    {
      "cell_type": "code",
      "source": [
        "plt.figure(figsize=(12,5))\n",
        "plt.bar(loadings_df.columns,np.cumsum(pca_out.explained_variance_ratio_*100), color=\"purple\", alpha=0.7)\n",
        "plt.ylabel(\"Cumulative proportion of variance (%)\")\n",
        "plt.xlabel(\"PCs\")\n",
        "plt.show()"
      ],
      "metadata": {
        "colab": {
          "base_uri": "https://localhost:8080/",
          "height": 334
        },
        "id": "s720LYB_KkE7",
        "outputId": "56263755-6da4-4641-b8e9-d7989e421228"
      },
      "execution_count": 135,
      "outputs": [
        {
          "output_type": "display_data",
          "data": {
            "text/plain": [
              "<Figure size 864x360 with 1 Axes>"
            ],
            "image/png": "[encoded data removed]"
          },
          "metadata": {
            "needs_background": "light"
          }
        }
      ]
    },
    {
      "cell_type": "markdown",
      "source": [
        "Esta técnica gráfica es útil para retener las componentes principales, en este caso de aprecia que a partir de la segunda componente, los cambios en la pendiente se hacen mas evidentes, sin embargo al observar los cambios de forma acumulada vemos que a partir de la quinta componente se explica un poco mas del 70% de la variabilidad de datos. Y al agregar una compponente adicional, se explica el 80% de la variabilidad del conjunto original de datos. "
      ],
      "metadata": {
        "id": "OZOLx8Zx45bY"
      }
    },
    {
      "cell_type": "code",
      "source": [
        "! pip install bioinfokit"
      ],
      "metadata": {
        "colab": {
          "base_uri": "https://localhost:8080/"
        },
        "id": "fr301VueLPgL",
        "outputId": "2ef57262-6fa2-4a26-fc2e-9057c30c2589"
      },
      "execution_count": 136,
      "outputs": [
        {
          "output_type": "stream",
          "name": "stdout",
          "text": [
            "Looking in indexes: https://pypi.org/simple, https://us-python.pkg.dev/colab-wheels/public/simple/\n",
            "Requirement already satisfied: bioinfokit in /usr/local/lib/python3.7/dist-packages (2.0.8)\n",
            "Requirement already satisfied: tabulate in /usr/local/lib/python3.7/dist-packages (from bioinfokit) (0.8.9)\n",
            "Requirement already satisfied: textwrap3 in /usr/local/lib/python3.7/dist-packages (from bioinfokit) (0.9.2)\n",
            "Requirement already satisfied: seaborn in /usr/local/lib/python3.7/dist-packages (from bioinfokit) (0.11.2)\n",
            "Requirement already satisfied: adjustText in /usr/local/lib/python3.7/dist-packages (from bioinfokit) (0.7.3)\n",
            "Requirement already satisfied: matplotlib-venn in /usr/local/lib/python3.7/dist-packages (from bioinfokit) (0.11.7)\n",
            "Requirement already satisfied: matplotlib in /usr/local/lib/python3.7/dist-packages (from bioinfokit) (3.2.2)\n",
            "Requirement already satisfied: pandas in /usr/local/lib/python3.7/dist-packages (from bioinfokit) (1.3.5)\n",
            "Requirement already satisfied: statsmodels in /usr/local/lib/python3.7/dist-packages (from bioinfokit) (0.10.2)\n",
            "Requirement already satisfied: scipy in /usr/local/lib/python3.7/dist-packages (from bioinfokit) (1.4.1)\n",
            "Requirement already satisfied: numpy in /usr/local/lib/python3.7/dist-packages (from bioinfokit) (1.21.6)\n",
            "Requirement already satisfied: scikit-learn in /usr/local/lib/python3.7/dist-packages (from bioinfokit) (1.0.2)\n",
            "Requirement already satisfied: pyparsing!=2.0.4,!=2.1.2,!=2.1.6,>=2.0.1 in /usr/local/lib/python3.7/dist-packages (from matplotlib->bioinfokit) (3.0.9)\n",
            "Requirement already satisfied: kiwisolver>=1.0.1 in /usr/local/lib/python3.7/dist-packages (from matplotlib->bioinfokit) (1.4.2)\n",
            "Requirement already satisfied: cycler>=0.10 in /usr/local/lib/python3.7/dist-packages (from matplotlib->bioinfokit) (0.11.0)\n",
            "Requirement already satisfied: python-dateutil>=2.1 in /usr/local/lib/python3.7/dist-packages (from matplotlib->bioinfokit) (2.8.2)\n",
            "Requirement already satisfied: typing-extensions in /usr/local/lib/python3.7/dist-packages (from kiwisolver>=1.0.1->matplotlib->bioinfokit) (4.2.0)\n",
            "Requirement already satisfied: six>=1.5 in /usr/local/lib/python3.7/dist-packages (from python-dateutil>=2.1->matplotlib->bioinfokit) (1.15.0)\n",
            "Requirement already satisfied: pytz>=2017.3 in /usr/local/lib/python3.7/dist-packages (from pandas->bioinfokit) (2022.1)\n",
            "Requirement already satisfied: threadpoolctl>=2.0.0 in /usr/local/lib/python3.7/dist-packages (from scikit-learn->bioinfokit) (3.1.0)\n",
            "Requirement already satisfied: joblib>=0.11 in /usr/local/lib/python3.7/dist-packages (from scikit-learn->bioinfokit) (1.1.0)\n",
            "Requirement already satisfied: patsy>=0.4.0 in /usr/local/lib/python3.7/dist-packages (from statsmodels->bioinfokit) (0.5.2)\n"
          ]
        }
      ]
    },
    {
      "cell_type": "code",
      "source": [
        "# get eigenvalues (variance explained by each PC)  \n",
        "pca_out.explained_variance_\n",
        "\n",
        "# get scree plot (for scree or elbow test)\n",
        "from bioinfokit.visuz import cluster\n",
        "cluster.screeplot(obj=[loadings_df.columns,pca_out.explained_variance_ratio_], show=True,dim=(12,5),axlabelfontsize=14)\n",
        "plt.show()\n",
        "# Scree plot will be saved in the same directory with name screeplot.png"
      ],
      "metadata": {
        "colab": {
          "base_uri": "https://localhost:8080/",
          "height": 342
        },
        "id": "rPxk6_pzLaHU",
        "outputId": "28c9a93d-0914-4307-e3a6-350a1daa822f"
      },
      "execution_count": 162,
      "outputs": [
        {
          "output_type": "display_data",
          "data": {
            "text/plain": [
              "<Figure size 864x360 with 1 Axes>"
            ],
            "image/png": "[encoded data removed]"
          },
          "metadata": {
            "needs_background": "light"
          }
        }
      ]
    },
    {
      "cell_type": "markdown",
      "source": [
        "# Get PCA loadings plots"
      ],
      "metadata": {
        "id": "sjGAo2D06NDS"
      }
    },
    {
      "cell_type": "code",
      "source": [
        "# 2D\n",
        "cluster.pcaplot(x=loadings[0], y=loadings[1], labels=data0.columns.values,\n",
        "                show=True,dim=(12,10),axlabelfontsize=14,\n",
        "    var1=round(pca_out.explained_variance_ratio_[0]*100, 2),\n",
        "    var2=round(pca_out.explained_variance_ratio_[1]*100, 2))"
      ],
      "metadata": {
        "colab": {
          "base_uri": "https://localhost:8080/",
          "height": 610
        },
        "id": "pG8vOjjcNEWP",
        "outputId": "f158ad68-24ad-49d5-f157-d738a39a069e"
      },
      "execution_count": 183,
      "outputs": [
        {
          "output_type": "display_data",
          "data": {
            "text/plain": [
              "<Figure size 864x720 with 1 Axes>"
            ],
            "image/png": "[encoded data removed]"
          },
          "metadata": {
            "needs_background": "light"
          }
        }
      ]
    },
    {
      "cell_type": "markdown",
      "source": [
        "El gráfico en 2D, muestra que las variables mas cercanas a las esquinas son las que tienen mayor correlacion entre las dos componentes principales, tal es el caso de Inherent_Risk, Money_Value,TOTAL y Score_MV."
      ],
      "metadata": {
        "id": "jciE4XHk6S0A"
      }
    },
    {
      "cell_type": "code",
      "source": [
        "# 3D\n",
        "cluster.pcaplot(x=loadings[0], y=loadings[1], z=loadings[2],  labels=data0.columns.values, \n",
        "                show=True,dim=(12,10),axlabelfontsize=14,\n",
        "                var1=round(pca_out.explained_variance_ratio_[0]*100, 2), \n",
        "                var2=round(pca_out.explained_variance_ratio_[1]*100, 2), \n",
        "                var3=round(pca_out.explained_variance_ratio_[2]*100, 2))"
      ],
      "metadata": {
        "colab": {
          "base_uri": "https://localhost:8080/",
          "height": 575
        },
        "id": "FSMwzb6aNfTH",
        "outputId": "d8cf6e93-2076-4024-e6ed-aaeed76cb6cb"
      },
      "execution_count": 139,
      "outputs": [
        {
          "output_type": "display_data",
          "data": {
            "text/plain": [
              "<Figure size 864x720 with 1 Axes>"
            ],
            "image/png": "[encoded data removed]"
          },
          "metadata": {
            "needs_background": "light"
          }
        }
      ]
    },
    {
      "cell_type": "markdown",
      "source": [
        "### Biplot del PCA"
      ],
      "metadata": {
        "id": "hYJYc7V5NrFJ"
      }
    },
    {
      "cell_type": "code",
      "source": [
        "data[\"Risk\"]=data[\"Risk\"].replace(0, \"g\")\n",
        "data[\"Risk\"]=data[\"Risk\"].replace(1, \"r\")"
      ],
      "metadata": {
        "id": "flP_vHsfQLQv"
      },
      "execution_count": 142,
      "outputs": []
    },
    {
      "cell_type": "code",
      "source": [
        "# get PC scores\n",
        "pca_scores = PCA().fit_transform(df_st)\n",
        "\n",
        "# get 2D biplot\n",
        "cluster.biplot(cscore=pca_scores, loadings=loadings, labels=data0.columns.values,dotsize=16,\n",
        "               colordot=data[\"Risk\"],arrowcolor='r',arrowlinewidth=0.9,arrowlinestyle='--',show=True,dim=(20,15),axlabelfontsize=14,\n",
        "               var1=round(pca_out.explained_variance_ratio_[0]*100, 2),\n",
        "               var2=round(pca_out.explained_variance_ratio_[1]*100, 2))"
      ],
      "metadata": {
        "colab": {
          "base_uri": "https://localhost:8080/",
          "height": 881
        },
        "id": "ssAXbdtfNnG6",
        "outputId": "f800052e-9ee5-4cf4-e14d-9424ebd22c4e"
      },
      "execution_count": 171,
      "outputs": [
        {
          "output_type": "display_data",
          "data": {
            "text/plain": [
              "<Figure size 1440x1080 with 1 Axes>"
            ],
            "image/png": "[encoded data removed]"
          },
          "metadata": {
            "needs_background": "light"
          }
        }
      ]
    },
    {
      "cell_type": "markdown",
      "source": [
        "El Biplot de las PCs muestra las relaciones entre las variables y las observaciones. En el grafico evidencian dos clusters, siendo los puntos rojos las empresas en riesgo de ser fraudulentas y las verdes las empresas que no estan en riesgo. Se observa que las variables Score, Audit Risk, y Score_MV son las más furtemente relacionadas con el riesgo de cometer fraude. Variables que se identificaron en la primera componente. Por su parte se las lineas más largas del grafico como Inherent_Risk (Componente 1) y CONTROL_RISK (Componente 2) y Money_Value (principalmente en la componente 6) tambien pueden ser buenas predictitoras del riesgo de fraude por parte de las empresas."
      ],
      "metadata": {
        "id": "lDk6dg0eC_xG"
      }
    },
    {
      "cell_type": "markdown",
      "source": [
        "### Regresión"
      ],
      "metadata": {
        "id": "QMjWOxv9GvD6"
      }
    },
    {
      "cell_type": "markdown",
      "source": [
        "Conforme a los resultados obtenidos del análisis de componentes principales, de 26 variables, nos quedamos con 6 variables."
      ],
      "metadata": {
        "id": "7UIEYKFMY_kP"
      }
    },
    {
      "cell_type": "code",
      "source": [
        "data[\"Risk0\"]=data[\"Risk\"].replace(\"g\", 0)\n",
        "data[\"Risk0\"]=data[\"Risk0\"].replace(\"r\", 1)"
      ],
      "metadata": {
        "id": "NR9ybi5L9avE"
      },
      "execution_count": 194,
      "outputs": []
    },
    {
      "cell_type": "code",
      "source": [
        "import statsmodels.api as sm"
      ],
      "metadata": {
        "id": "lzgPSx1r7eB6"
      },
      "execution_count": 184,
      "outputs": []
    },
    {
      "cell_type": "code",
      "source": [
        "X = data[[\"Risk_B\", \"TOTAL\", \"Score_MV\", \"Score\", \"District_Loss\", \"History\"]]\n",
        "Y = data[\"Risk0\"]\n",
        "X= sm.add_constant(X)\n",
        "model = sm.OLS(Y,X).fit()\n",
        "pred=round(model.predict(X))\n",
        "model.summary()\n"
      ],
      "metadata": {
        "colab": {
          "base_uri": "https://localhost:8080/",
          "height": 558
        },
        "id": "WwvS8nUe7j-2",
        "outputId": "a41969af-e504-4bca-e023-23a461f3aa2f"
      },
      "execution_count": 237,
      "outputs": [
        {
          "output_type": "execute_result",
          "data": {
            "text/plain": [
              "<class 'statsmodels.iolib.summary.Summary'>\n",
              "\"\"\"\n",
              "                            OLS Regression Results                            \n",
              "==============================================================================\n",
              "Dep. Variable:                  Risk0   R-squared:                       0.716\n",
              "Model:                            OLS   Adj. R-squared:                  0.714\n",
              "Method:                 Least Squares   F-statistic:                     322.3\n",
              "Date:                Sat, 04 Jun 2022   Prob (F-statistic):          6.44e-206\n",
              "Time:                        20:14:44   Log-Likelihood:                -57.091\n",
              "No. Observations:                 775   AIC:                             128.2\n",
              "Df Residuals:                     768   BIC:                             160.8\n",
              "Df Model:                           6                                         \n",
              "Covariance Type:            nonrobust                                         \n",
              "=================================================================================\n",
              "                    coef    std err          t      P>|t|      [0.025      0.975]\n",
              "---------------------------------------------------------------------------------\n",
              "const            -0.9308      0.038    -24.498      0.000      -1.005      -0.856\n",
              "Risk_B           -0.0116      0.003     -3.800      0.000      -0.018      -0.006\n",
              "TOTAL             0.0063      0.002      3.451      0.001       0.003       0.010\n",
              "Score_MV          0.8401      0.091      9.223      0.000       0.661       1.019\n",
              "Score             0.2968      0.019     15.591      0.000       0.259       0.334\n",
              "District_Loss     0.1073      0.008     13.602      0.000       0.092       0.123\n",
              "History          -0.0106      0.019     -0.562      0.575      -0.047       0.026\n",
              "==============================================================================\n",
              "Omnibus:                       81.497   Durbin-Watson:                   1.831\n",
              "Prob(Omnibus):                  0.000   Jarque-Bera (JB):              117.169\n",
              "Skew:                           0.766   Prob(JB):                     3.61e-26\n",
              "Kurtosis:                       4.131   Cond. No.                         602.\n",
              "==============================================================================\n",
              "\n",
              "Warnings:\n",
              "[1] Standard Errors assume that the covariance matrix of the errors is correctly specified.\n",
              "\"\"\""
            ],
            "text/html": [
              "<table class=\"simpletable\">\n",
              "<caption>OLS Regression Results</caption>\n",
              "<tr>\n",
              "  <th>Dep. Variable:</th>          <td>Risk0</td>      <th>  R-squared:         </th> <td>   0.716</td> \n",
              "</tr>\n",
              "<tr>\n",
              "  <th>Model:</th>                   <td>OLS</td>       <th>  Adj. R-squared:    </th> <td>   0.714</td> \n",
              "</tr>\n",
              "<tr>\n",
              "  <th>Method:</th>             <td>Least Squares</td>  <th>  F-statistic:       </th> <td>   322.3</td> \n",
              "</tr>\n",
              "<tr>\n",
              "  <th>Date:</th>             <td>Sat, 04 Jun 2022</td> <th>  Prob (F-statistic):</th> <td>6.44e-206</td>\n",
              "</tr>\n",
              "<tr>\n",
              "  <th>Time:</th>                 <td>20:14:44</td>     <th>  Log-Likelihood:    </th> <td> -57.091</td> \n",
              "</tr>\n",
              "<tr>\n",
              "  <th>No. Observations:</th>      <td>   775</td>      <th>  AIC:               </th> <td>   128.2</td> \n",
              "</tr>\n",
              "<tr>\n",
              "  <th>Df Residuals:</th>          <td>   768</td>      <th>  BIC:               </th> <td>   160.8</td> \n",
              "</tr>\n",
              "<tr>\n",
              "  <th>Df Model:</th>              <td>     6</td>      <th>                     </th>     <td> </td>    \n",
              "</tr>\n",
              "<tr>\n",
              "  <th>Covariance Type:</th>      <td>nonrobust</td>    <th>                     </th>     <td> </td>    \n",
              "</tr>\n",
              "</table>\n",
              "<table class=\"simpletable\">\n",
              "<tr>\n",
              "        <td></td>           <th>coef</th>     <th>std err</th>      <th>t</th>      <th>P>|t|</th>  <th>[0.025</th>    <th>0.975]</th>  \n",
              "</tr>\n",
              "<tr>\n",
              "  <th>const</th>         <td>   -0.9308</td> <td>    0.038</td> <td>  -24.498</td> <td> 0.000</td> <td>   -1.005</td> <td>   -0.856</td>\n",
              "</tr>\n",
              "<tr>\n",
              "  <th>Risk_B</th>        <td>   -0.0116</td> <td>    0.003</td> <td>   -3.800</td> <td> 0.000</td> <td>   -0.018</td> <td>   -0.006</td>\n",
              "</tr>\n",
              "<tr>\n",
              "  <th>TOTAL</th>         <td>    0.0063</td> <td>    0.002</td> <td>    3.451</td> <td> 0.001</td> <td>    0.003</td> <td>    0.010</td>\n",
              "</tr>\n",
              "<tr>\n",
              "  <th>Score_MV</th>      <td>    0.8401</td> <td>    0.091</td> <td>    9.223</td> <td> 0.000</td> <td>    0.661</td> <td>    1.019</td>\n",
              "</tr>\n",
              "<tr>\n",
              "  <th>Score</th>         <td>    0.2968</td> <td>    0.019</td> <td>   15.591</td> <td> 0.000</td> <td>    0.259</td> <td>    0.334</td>\n",
              "</tr>\n",
              "<tr>\n",
              "  <th>District_Loss</th> <td>    0.1073</td> <td>    0.008</td> <td>   13.602</td> <td> 0.000</td> <td>    0.092</td> <td>    0.123</td>\n",
              "</tr>\n",
              "<tr>\n",
              "  <th>History</th>       <td>   -0.0106</td> <td>    0.019</td> <td>   -0.562</td> <td> 0.575</td> <td>   -0.047</td> <td>    0.026</td>\n",
              "</tr>\n",
              "</table>\n",
              "<table class=\"simpletable\">\n",
              "<tr>\n",
              "  <th>Omnibus:</th>       <td>81.497</td> <th>  Durbin-Watson:     </th> <td>   1.831</td>\n",
              "</tr>\n",
              "<tr>\n",
              "  <th>Prob(Omnibus):</th> <td> 0.000</td> <th>  Jarque-Bera (JB):  </th> <td> 117.169</td>\n",
              "</tr>\n",
              "<tr>\n",
              "  <th>Skew:</th>          <td> 0.766</td> <th>  Prob(JB):          </th> <td>3.61e-26</td>\n",
              "</tr>\n",
              "<tr>\n",
              "  <th>Kurtosis:</th>      <td> 4.131</td> <th>  Cond. No.          </th> <td>    602.</td>\n",
              "</tr>\n",
              "</table><br/><br/>Warnings:<br/>[1] Standard Errors assume that the covariance matrix of the errors is correctly specified."
            ]
          },
          "metadata": {},
          "execution_count": 237
        }
      ]
    },
    {
      "cell_type": "markdown",
      "source": [
        "Al correr el modelo, se encontró un R ajustado de 0.716, lo cual indica una buena medida de ajuste. Por su parte, la variable Risk_B tiene una relacion inversa con el riesgo y las variables TOTAL, Score_MV, Score y District_Loss tienen una relación directa con el riesgo. \n",
        "\n",
        "Se probó el modelo con las varibles Inherent_Risk y Audit_Risk, sin embargo resultaron tener coeficientes muy cercanos al cero y que conforme al valor que puede tomar la variable no aportan tanto peso al modelo, por lo que fueron reemplazadas por la variable District_Loss, la cual tiene una gran correlación en la componente 5. \n",
        "\n",
        "\n"
      ],
      "metadata": {
        "id": "YXnPNTnNIs9R"
      }
    },
    {
      "cell_type": "code",
      "source": [
        "plt.scatter(Y,pred)\n",
        "plt.ylabel(\"prediction\")\n",
        "plt.xlabel(\"original\")"
      ],
      "metadata": {
        "colab": {
          "base_uri": "https://localhost:8080/",
          "height": 296
        },
        "id": "5AhCSmQi9GiN",
        "outputId": "771e1438-e4d1-4444-aa62-76f1123c9fbb"
      },
      "execution_count": 215,
      "outputs": [
        {
          "output_type": "execute_result",
          "data": {
            "text/plain": [
              "Text(0.5, 0, 'original')"
            ]
          },
          "metadata": {},
          "execution_count": 215
        },
        {
          "output_type": "display_data",
          "data": {
            "text/plain": [
              "<Figure size 432x288 with 1 Axes>"
            ],
            "image/png": "[encoded data removed]"
          },
          "metadata": {
            "needs_background": "light"
          }
        }
      ]
    },
    {
      "cell_type": "code",
      "source": [
        "from sklearn.metrics import confusion_matrix"
      ],
      "metadata": {
        "id": "BKhHIFx8-87f"
      },
      "execution_count": 201,
      "outputs": []
    },
    {
      "cell_type": "code",
      "source": [
        "confusion_matrix(Y,pred)/775*100"
      ],
      "metadata": {
        "colab": {
          "base_uri": "https://localhost:8080/"
        },
        "id": "FXkDDpKa_PRH",
        "outputId": "bc530a76-7edc-488f-c607-72ddb36d4fa0"
      },
      "execution_count": 224,
      "outputs": [
        {
          "output_type": "execute_result",
          "data": {
            "text/plain": [
              "array([[60.51612903,  0.12903226,  0.        ],\n",
              "       [ 5.16129032, 32.51612903,  1.67741935],\n",
              "       [ 0.        ,  0.        ,  0.        ]])"
            ]
          },
          "metadata": {},
          "execution_count": 224
        }
      ]
    },
    {
      "cell_type": "markdown",
      "source": [
        "Finalmente, tenemos que la regresión explica el 93% de las veces el comportamiento de las datos originales, el 60.5% de las veces que el riesgo fue 1, la regresión le dio el valor de 1, y el 32.5% de las veces que el riesgo fue 0, la regresion le dio el valor de 0. frente al 7% que erró en el resultado y asignó un valor distinto al de la data original."
      ],
      "metadata": {
        "id": "o73S04UBQIb6"
      }
    }
  ]
}